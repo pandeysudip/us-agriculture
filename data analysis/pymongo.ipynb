{
 "cells": [
  {
   "cell_type": "code",
   "execution_count": 1,
   "id": "03963df3",
   "metadata": {},
   "outputs": [],
   "source": [
    "import pymongo\n",
    "from pymongo import MongoClient\n",
    "import os\n",
    "import pandas as pd\n",
    "import json\n",
    "import crops"
   ]
  },
  {
   "cell_type": "code",
   "execution_count": 2,
   "id": "96d9c98f",
   "metadata": {},
   "outputs": [],
   "source": [
    "cluster=MongoClient('mongodb://localhost:27017')\n",
    "#create database\n",
    "db=cluster['us-agriculture']  \n",
    "#creating collections\n",
    "field_crops=db['field_crops'] \n",
    "vegetables=db['vegetables'] \n",
    "fruits=db['fruits'] \n",
    "weather=db['weather'] \n",
    "news=db['news'] \n",
    "croplist=db['croplist']\n",
    "countyboarder=db['countyboarder']"
   ]
  },
  {
   "cell_type": "code",
   "execution_count": 3,
   "id": "b3bce389",
   "metadata": {},
   "outputs": [],
   "source": [
    "#to drop collection name\n",
    "field_crops.drop()\n",
    "vegetables.drop()\n",
    "fruits.drop()\n",
    "croplist.drop()"
   ]
  },
  {
   "cell_type": "code",
   "execution_count": 4,
   "id": "0e6e3b33",
   "metadata": {},
   "outputs": [
    {
     "data": {
      "text/plain": [
       "['ClassDB',\n",
       " 'MissionMars',\n",
       " 'admin',\n",
       " 'config',\n",
       " 'etl-project',\n",
       " 'etl_project',\n",
       " 'fruits_db',\n",
       " 'local',\n",
       " 'us-agriculture']"
      ]
     },
     "execution_count": 4,
     "metadata": {},
     "output_type": "execute_result"
    }
   ],
   "source": [
    "#to find all the databases\n",
    "cluster.list_database_names()\n",
    "#(unless you enter data for collection, database will not showup here)"
   ]
  },
  {
   "cell_type": "code",
   "execution_count": 5,
   "id": "45e62d3f",
   "metadata": {},
   "outputs": [
    {
     "data": {
      "text/plain": [
       "['news', 'weather']"
      ]
     },
     "execution_count": 5,
     "metadata": {},
     "output_type": "execute_result"
    }
   ],
   "source": [
    "#to find all collections for particular database\n",
    "#(unless you enter data for collection, collections will not showup here)\n",
    "db.list_collection_names()"
   ]
  },
  {
   "cell_type": "code",
   "execution_count": 6,
   "id": "a8dbeac9",
   "metadata": {},
   "outputs": [],
   "source": [
    "# path of cleaned csv files\n",
    "path_field_crops=os.path.join('cleaned_data', 'field_crops_merged.csv')\n",
    "path_vegetables=os.path.join('cleaned_data', 'vegetables_merged.csv')\n",
    "path_fruits=os.path.join('cleaned_data', 'fruits_merged.csv')\n",
    "path_weather=os.path.join('cleaned_data', 'weather_data.csv')\n",
    "path_news=os.path.join('cleaned_data', 'news_data.csv')\n",
    "path_combined=os.path.join('cleaned_data', 'combined_data.csv')\n",
    "#for crop list\n",
    "crops_list=crops.all_crops\n",
    "crops_dict={\"crops\":crops_list}"
   ]
  },
  {
   "cell_type": "code",
   "execution_count": 7,
   "id": "d1fa740c",
   "metadata": {},
   "outputs": [],
   "source": [
    "#creating a function to insert csv files in MongoDB collections\n",
    "def csv_to_json(filename, header=0):\n",
    "    data = pd.read_csv(filename, header=header)\n",
    "    return data.to_dict('records')#records is list like\n",
    "\n",
    "#print(csv_to_json(path_weather))\n"
   ]
  },
  {
   "cell_type": "code",
   "execution_count": 8,
   "id": "ef85c8ff",
   "metadata": {},
   "outputs": [
    {
     "data": {
      "text/plain": [
       "<pymongo.results.InsertOneResult at 0x7fea93fb8380>"
      ]
     },
     "execution_count": 8,
     "metadata": {},
     "output_type": "execute_result"
    }
   ],
   "source": [
    "#Insert a record in collections:\n",
    "field_crops.insert_many(csv_to_json(path_field_crops))\n",
    "vegetables.insert_many(csv_to_json(path_vegetables))\n",
    "fruits.insert_many(csv_to_json(path_fruits))\n",
    "weather.insert_many(csv_to_json(path_weather))\n",
    "croplist.insert_one(crops_dict)\n",
    "#combined.insert_many(csv_to_json(path_combined))\n",
    "#news.insert_many(csv_to_json(path_news))"
   ]
  },
  {
   "cell_type": "markdown",
   "id": "46eeb785",
   "metadata": {},
   "source": [
    "## fruits-collection"
   ]
  },
  {
   "cell_type": "code",
   "execution_count": null,
   "id": "cc6a58e6",
   "metadata": {},
   "outputs": [],
   "source": [
    "#To select data from a collections in MongoDB, \n",
    "fruits.find_one()"
   ]
  },
  {
   "cell_type": "code",
   "execution_count": null,
   "id": "2e49b487",
   "metadata": {},
   "outputs": [],
   "source": [
    "# to select (limiting to 10 only)\n",
    "for x in fruits .find({'State': 'SC'}).limit(10):\n",
    "    print(x)"
   ]
  },
  {
   "cell_type": "code",
   "execution_count": null,
   "id": "69ef9e8f",
   "metadata": {},
   "outputs": [],
   "source": [
    "#selecting specific columns of collection election(1- will show columns)\n",
    "for x in fruits.find({}, {\"_id\":0,\"County\":1,\"Value\":1}).limit(10):\n",
    "    print(x)"
   ]
  },
  {
   "cell_type": "markdown",
   "id": "f648b63e",
   "metadata": {},
   "source": [
    "## weather-collection"
   ]
  },
  {
   "cell_type": "code",
   "execution_count": null,
   "id": "4db4c8ae",
   "metadata": {},
   "outputs": [],
   "source": [
    "weather.find_one()"
   ]
  },
  {
   "cell_type": "code",
   "execution_count": null,
   "id": "54aa4fee",
   "metadata": {},
   "outputs": [],
   "source": [
    "#selecting specific columns of collection election(1- will show columns)\n",
    "for x in weather.find({}, {\"_id\":0,\"County\":1,\"Max_temp\":1}).limit(20):\n",
    "    print(x)"
   ]
  },
  {
   "cell_type": "code",
   "execution_count": null,
   "id": "b7261481",
   "metadata": {},
   "outputs": [],
   "source": []
  }
 ],
 "metadata": {
  "kernelspec": {
   "display_name": "Python 3 (ipykernel)",
   "language": "python",
   "name": "python3"
  },
  "language_info": {
   "codemirror_mode": {
    "name": "ipython",
    "version": 3
   },
   "file_extension": ".py",
   "mimetype": "text/x-python",
   "name": "python",
   "nbconvert_exporter": "python",
   "pygments_lexer": "ipython3",
   "version": "3.8.10"
  }
 },
 "nbformat": 4,
 "nbformat_minor": 5
}
