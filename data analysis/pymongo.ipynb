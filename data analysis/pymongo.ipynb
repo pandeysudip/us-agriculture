{
 "cells": [
  {
   "cell_type": "code",
   "execution_count": 1,
   "id": "f080c44e",
   "metadata": {},
   "outputs": [],
   "source": [
    "import pymongo\n",
    "from pymongo import MongoClient\n",
    "import os\n",
    "import pandas as pd\n",
    "import json\n",
    "import crops"
   ]
  },
  {
   "cell_type": "code",
   "execution_count": 3,
   "id": "ed4dbaae",
   "metadata": {},
   "outputs": [],
   "source": [
    "cluster=MongoClient('mongodb://localhost:27017')\n",
    "#create database\n",
    "db=cluster['us-agriculture']  \n",
    "#creating collections\n",
    "field_crops=db['field_crops'] \n",
    "vegetables=db['vegetables'] \n",
    "fruits=db['fruits'] \n",
    "weather=db['weather'] \n",
    "news=db['news'] \n",
    "croplist=db['croplist']\n",
    "combined=db['combined']"
   ]
  },
  {
   "cell_type": "code",
   "execution_count": 27,
   "id": "666f5323",
   "metadata": {},
   "outputs": [
    {
     "data": {
      "text/plain": [
       "['ClassDB',\n",
       " 'MissionMars',\n",
       " 'admin',\n",
       " 'config',\n",
       " 'etl-project',\n",
       " 'etl_project',\n",
       " 'fruits_db',\n",
       " 'local',\n",
       " 'us-agriculture']"
      ]
     },
     "execution_count": 27,
     "metadata": {},
     "output_type": "execute_result"
    }
   ],
   "source": [
    "#to find all the databases\n",
    "cluster.list_database_names()\n",
    "#(unless you enter data for collection, database will not showup here)"
   ]
  },
  {
   "cell_type": "code",
   "execution_count": 32,
   "id": "eed34051",
   "metadata": {},
   "outputs": [
    {
     "data": {
      "text/plain": [
       "['news', 'weather', 'fruits', 'field_crops', 'vegetables']"
      ]
     },
     "execution_count": 32,
     "metadata": {},
     "output_type": "execute_result"
    }
   ],
   "source": [
    "#to find all collections for particular database\n",
    "#(unless you enter data for collection, collections will not showup here)\n",
    "db.list_collection_names()"
   ]
  },
  {
   "cell_type": "code",
   "execution_count": 29,
   "id": "feca98b4",
   "metadata": {},
   "outputs": [],
   "source": [
    "# path of cleaned csv files\n",
    "path_field_crops=os.path.join('cleaned_data', 'field_crops_merged.csv')\n",
    "path_vegetables=os.path.join('cleaned_data', 'vegetables_merged.csv')\n",
    "path_fruits=os.path.join('cleaned_data', 'fruits_merged.csv')\n",
    "path_weather=os.path.join('cleaned_data', 'weather_data.csv')\n",
    "path_news=os.path.join('cleaned_data', 'news_data.csv')\n",
    "path_combined=os.path.join('cleaned_data', 'combined_data.csv')\n",
    "#for crop list\n",
    "crops_list=crops.all_crops\n",
    "crops_dict={\"crops\":crops_list}"
   ]
  },
  {
   "cell_type": "code",
   "execution_count": 30,
   "id": "bf657b9c",
   "metadata": {},
   "outputs": [],
   "source": [
    "#creating a function to insert csv files in MongoDB collections\n",
    "def csv_to_json(filename, header=0):\n",
    "    data = pd.read_csv(filename, header=header)\n",
    "    return data.to_dict('records')#records is list like\n",
    "\n",
    "#print(csv_to_json(path_weather))\n"
   ]
  },
  {
   "cell_type": "code",
   "execution_count": 31,
   "id": "f721ad11",
   "metadata": {},
   "outputs": [
    {
     "data": {
      "text/plain": [
       "<pymongo.results.InsertManyResult at 0x7fdffd084a80>"
      ]
     },
     "execution_count": 31,
     "metadata": {},
     "output_type": "execute_result"
    }
   ],
   "source": [
    "#Insert a record in collections:\n",
    "field_crops.insert_many(csv_to_json(path_field_crops))\n",
    "vegetables.insert_many(csv_to_json(path_vegetables))\n",
    "fruits.insert_many(csv_to_json(path_fruits))\n",
    "weather.insert_many(csv_to_json(path_weather))\n",
    "croplist.insert_one(crops_dict)\n",
    "#combined.insert_many(csv_to_json(path_combined))\n",
    "#news.insert_many(csv_to_json(path_news))"
   ]
  },
  {
   "cell_type": "code",
   "execution_count": 25,
   "id": "6489a7ed",
   "metadata": {},
   "outputs": [],
   "source": [
    "#to drop collection name\n",
    "#weather.drop()\n",
    "#field_crops.drop()\n",
    "#vegetables.drop()\n",
    "#fruits.drop()"
   ]
  },
  {
   "cell_type": "markdown",
   "id": "5f4d596a",
   "metadata": {},
   "source": [
    "## fruits-collection"
   ]
  },
  {
   "cell_type": "code",
   "execution_count": 33,
   "id": "587d4f4e",
   "metadata": {},
   "outputs": [
    {
     "data": {
      "text/plain": [
       "{'_id': ObjectId('619ee3359620cdfe88dd4f4d'),\n",
       " 'County': 'Abbeville',\n",
       " 'State': 'SC',\n",
       " 'Commodity': 'CORN',\n",
       " 'Value': 579.0,\n",
       " 'Lon': -82.3785,\n",
       " 'Lat': 34.1819,\n",
       " 'Max_temp': 7.51,\n",
       " 'Min_temp': 3.21}"
      ]
     },
     "execution_count": 33,
     "metadata": {},
     "output_type": "execute_result"
    }
   ],
   "source": [
    "#To select data from a collections in MongoDB, \n",
    "fruits.find_one()"
   ]
  },
  {
   "cell_type": "code",
   "execution_count": 35,
   "id": "f3b03716",
   "metadata": {},
   "outputs": [
    {
     "name": "stdout",
     "output_type": "stream",
     "text": [
      "{'_id': ObjectId('619ee3359620cdfe88dd4f4d'), 'County': 'Abbeville', 'State': 'SC', 'Commodity': 'CORN', 'Value': 579.0, 'Lon': -82.3785, 'Lat': 34.1819, 'Max_temp': 7.51, 'Min_temp': 3.21}\n",
      "{'_id': ObjectId('619ee3359620cdfe88dd4f4e'), 'County': 'Abbeville', 'State': 'SC', 'Commodity': 'COTTON', 'Value': 4.0, 'Lon': -82.3785, 'Lat': 34.1819, 'Max_temp': 7.51, 'Min_temp': 3.21}\n",
      "{'_id': ObjectId('619ee3359620cdfe88dd4f4f'), 'County': 'Abbeville', 'State': 'SC', 'Commodity': 'FIELD CROPS, OTHER', 'Value': 825137.0, 'Lon': -82.3785, 'Lat': 34.1819, 'Max_temp': 7.51, 'Min_temp': 3.21}\n",
      "{'_id': ObjectId('619ee3359620cdfe88dd4f50'), 'County': 'Abbeville', 'State': 'SC', 'Commodity': 'GRAIN', 'Value': 10021.0, 'Lon': -82.3785, 'Lat': 34.1819, 'Max_temp': 7.51, 'Min_temp': 3.21}\n",
      "{'_id': ObjectId('619ee3359620cdfe88dd4f51'), 'County': 'Abbeville', 'State': 'SC', 'Commodity': 'HAY', 'Value': 31587.0, 'Lon': -82.3785, 'Lat': 34.1819, 'Max_temp': 7.51, 'Min_temp': 3.21}\n",
      "{'_id': ObjectId('619ee3359620cdfe88dd4f52'), 'County': 'Abbeville', 'State': 'SC', 'Commodity': 'HAY & HAYLAGE', 'Value': 33232.0, 'Lon': -82.3785, 'Lat': 34.1819, 'Max_temp': 7.51, 'Min_temp': 3.21}\n",
      "{'_id': ObjectId('619ee3359620cdfe88dd4f53'), 'County': 'Abbeville', 'State': 'SC', 'Commodity': 'HAYLAGE', 'Value': 6254.0, 'Lon': -82.3785, 'Lat': 34.1819, 'Max_temp': 7.51, 'Min_temp': 3.21}\n",
      "{'_id': ObjectId('619ee3359620cdfe88dd4f54'), 'County': 'Abbeville', 'State': 'SC', 'Commodity': 'OATS', 'Value': 4.0, 'Lon': -82.3785, 'Lat': 34.1819, 'Max_temp': 7.51, 'Min_temp': 3.21}\n",
      "{'_id': ObjectId('619ee3359620cdfe88dd4f55'), 'County': 'Abbeville', 'State': 'SC', 'Commodity': 'PEAS', 'Value': 2.0, 'Lon': -82.3785, 'Lat': 34.1819, 'Max_temp': 7.51, 'Min_temp': 3.21}\n",
      "{'_id': ObjectId('619ee3359620cdfe88dd4f56'), 'County': 'Abbeville', 'State': 'SC', 'Commodity': 'RYE', 'Value': 1.0, 'Lon': -82.3785, 'Lat': 34.1819, 'Max_temp': 7.51, 'Min_temp': 3.21}\n"
     ]
    }
   ],
   "source": [
    "# to select (limiting to 10 only)\n",
    "for x in fruits .find({'State': 'SC'}).limit(10):\n",
    "    print(x)"
   ]
  },
  {
   "cell_type": "code",
   "execution_count": 36,
   "id": "3e4a6b5b",
   "metadata": {},
   "outputs": [
    {
     "name": "stdout",
     "output_type": "stream",
     "text": [
      "{'County': 'Abbeville', 'Value': 579.0}\n",
      "{'County': 'Abbeville', 'Value': 4.0}\n",
      "{'County': 'Abbeville', 'Value': 825137.0}\n",
      "{'County': 'Abbeville', 'Value': 10021.0}\n",
      "{'County': 'Abbeville', 'Value': 31587.0}\n",
      "{'County': 'Abbeville', 'Value': 33232.0}\n",
      "{'County': 'Abbeville', 'Value': 6254.0}\n",
      "{'County': 'Abbeville', 'Value': 4.0}\n",
      "{'County': 'Abbeville', 'Value': 2.0}\n",
      "{'County': 'Abbeville', 'Value': 1.0}\n"
     ]
    }
   ],
   "source": [
    "#selecting specific columns of collection election(1- will show columns)\n",
    "for x in fruits.find({}, {\"_id\":0,\"County\":1,\"Value\":1}).limit(10):\n",
    "    print(x)"
   ]
  },
  {
   "cell_type": "markdown",
   "id": "56808d75",
   "metadata": {},
   "source": [
    "## weather-collection"
   ]
  },
  {
   "cell_type": "code",
   "execution_count": 37,
   "id": "d9aff3d8",
   "metadata": {},
   "outputs": [
    {
     "data": {
      "text/plain": [
       "{'_id': ObjectId('619ee3369620cdfe88ddcba3'),\n",
       " 'County': 'Aasco Municipio',\n",
       " 'State': 'PR',\n",
       " 'Zipcode': 610,\n",
       " 'Name': 'Anasco',\n",
       " 'Max_temp': 27.36,\n",
       " 'Min_temp': 23.43,\n",
       " 'Description': 'scattered clouds',\n",
       " 'Feels_like': 26.05,\n",
       " 'Sunrise': 1637750420,\n",
       " 'Sunset': 1637790643,\n",
       " 'Lon': -67.14,\n",
       " 'Lat': 18.28}"
      ]
     },
     "execution_count": 37,
     "metadata": {},
     "output_type": "execute_result"
    }
   ],
   "source": [
    "weather.find_one()"
   ]
  },
  {
   "cell_type": "code",
   "execution_count": 87,
   "id": "bafa04ef",
   "metadata": {},
   "outputs": [
    {
     "name": "stdout",
     "output_type": "stream",
     "text": [
      "{'County': 'Aasco Municipio', 'Max_temp': 26.77}\n",
      "{'County': 'Abbeville ', 'Max_temp': 7.47}\n",
      "{'County': 'Acadia Parish', 'Max_temp': 18.32}\n",
      "{'County': 'Accomack ', 'Max_temp': 7.93}\n",
      "{'County': 'Ada ', 'Max_temp': 6.29}\n",
      "{'County': 'Adair ', 'Max_temp': 8.41}\n",
      "{'County': 'Adair ', 'Max_temp': 10.13}\n",
      "{'County': 'Adair ', 'Max_temp': 10.65}\n",
      "{'County': 'Adair ', 'Max_temp': 14.85}\n",
      "{'County': 'Adams ', 'Max_temp': 7.42}\n",
      "{'County': 'Adams ', 'Max_temp': 9.08}\n",
      "{'County': 'Adams ', 'Max_temp': 3.62}\n",
      "{'County': 'Adams ', 'Max_temp': 12.23}\n",
      "{'County': 'Adams ', 'Max_temp': 4.96}\n",
      "{'County': 'Adams ', 'Max_temp': 13.3}\n",
      "{'County': 'Adams ', 'Max_temp': -0.69}\n",
      "{'County': 'Adams ', 'Max_temp': 9.88}\n",
      "{'County': 'Adams ', 'Max_temp': 9.68}\n",
      "{'County': 'Adams ', 'Max_temp': 4.58}\n",
      "{'County': 'Adams ', 'Max_temp': 4.1}\n"
     ]
    }
   ],
   "source": [
    "#selecting specific columns of collection election(1- will show columns)\n",
    "for x in weather.find({}, {\"_id\":0,\"County\":1,\"Max_temp\":1}).limit(20):\n",
    "    print(x)"
   ]
  },
  {
   "cell_type": "code",
   "execution_count": null,
   "id": "f6b5ce8a",
   "metadata": {},
   "outputs": [],
   "source": []
  }
 ],
 "metadata": {
  "kernelspec": {
   "display_name": "Python 3 (ipykernel)",
   "language": "python",
   "name": "python3"
  },
  "language_info": {
   "codemirror_mode": {
    "name": "ipython",
    "version": 3
   },
   "file_extension": ".py",
   "mimetype": "text/x-python",
   "name": "python",
   "nbconvert_exporter": "python",
   "pygments_lexer": "ipython3",
   "version": "3.8.10"
  }
 },
 "nbformat": 4,
 "nbformat_minor": 5
}
