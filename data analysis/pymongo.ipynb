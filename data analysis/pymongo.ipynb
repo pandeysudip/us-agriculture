{
 "cells": [
  {
   "cell_type": "code",
   "execution_count": 20,
   "id": "9c17726b",
   "metadata": {},
   "outputs": [],
   "source": [
    "import pymongo\n",
    "from pymongo import MongoClient\n",
    "import os\n",
    "import pandas as pd\n",
    "import json\n",
    "import crops"
   ]
  },
  {
   "cell_type": "code",
   "execution_count": 21,
   "id": "7529244c",
   "metadata": {},
   "outputs": [],
   "source": [
    "cluster=MongoClient('mongodb://localhost:27017')\n",
    "#create database\n",
    "db=cluster['us-agriculture2']  \n",
    "#creating collections\n",
    "field_crops=db['field_crops'] \n",
    "vegetables=db['vegetables'] \n",
    "fruits=db['fruits'] \n",
    "weather=db['weather'] \n",
    "news=db['news'] \n",
    "croplist=db['croplist']\n",
    "combined=db['combined']"
   ]
  },
  {
   "cell_type": "code",
   "execution_count": 22,
   "id": "979407ff",
   "metadata": {},
   "outputs": [],
   "source": [
    "#to drop collection name\n",
    "#field_crops.drop()\n",
    "#vegetables.drop()\n",
    "#fruits.drop()\n",
    "#croplist.drop()"
   ]
  },
  {
   "cell_type": "code",
   "execution_count": 23,
   "id": "fd12f3ab",
   "metadata": {},
   "outputs": [
    {
     "data": {
      "text/plain": [
       "['AgNews',\n",
       " 'admin',\n",
       " 'classDB',\n",
       " 'config',\n",
       " 'local',\n",
       " 'mars',\n",
       " 'marsDatabase',\n",
       " 'mars_database',\n",
       " 'mars_db',\n",
       " 'marsalmost',\n",
       " 'marsalmost1',\n",
       " 'marsdb',\n",
       " 'marsdbb',\n",
       " 'marstest',\n",
       " 'travel_db',\n",
       " 'us-agriculture',\n",
       " 'weather_app']"
      ]
     },
     "execution_count": 23,
     "metadata": {},
     "output_type": "execute_result"
    }
   ],
   "source": [
    "#to find all the databases\n",
    "cluster.list_database_names()\n",
    "#(unless you enter data for collection, database will not showup here)"
   ]
  },
  {
   "cell_type": "code",
   "execution_count": 24,
   "id": "24eb9236",
   "metadata": {},
   "outputs": [
    {
     "data": {
      "text/plain": [
       "[]"
      ]
     },
     "execution_count": 24,
     "metadata": {},
     "output_type": "execute_result"
    }
   ],
   "source": [
    "#to find all collections for particular database\n",
    "#(unless you enter data for collection, collections will not showup here)\n",
    "db.list_collection_names()"
   ]
  },
  {
   "cell_type": "code",
   "execution_count": 25,
   "id": "aedddd9e",
   "metadata": {},
   "outputs": [],
   "source": [
    "# path of cleaned csv files\n",
    "path_field_crops=os.path.join('cleaned_data', 'field_crops_merged.csv')\n",
    "path_vegetables=os.path.join('cleaned_data', 'vegetables_merged.csv')\n",
    "path_fruits=os.path.join('cleaned_data', 'fruits_merged.csv')\n",
    "path_weather=os.path.join('cleaned_data', 'weather_data.csv')\n",
    "path_news=os.path.join('cleaned_data', 'news_data.csv')\n",
    "path_combined=os.path.join('cleaned_data', 'combined_data.csv')\n",
    "#for crop list\n",
    "crops_list=crops.all_crops\n",
    "crops_dict={\"crops\":crops_list}"
   ]
  },
  {
   "cell_type": "code",
   "execution_count": 26,
   "id": "eba5e973",
   "metadata": {},
   "outputs": [],
   "source": [
    "#creating a function to insert csv files in MongoDB collections\n",
    "def csv_to_json(filename, header=0):\n",
    "    data = pd.read_csv(filename, header=header)\n",
    "    return data.to_dict('records')#records is list like\n",
    "\n",
    "#print(csv_to_json(path_weather))\n"
   ]
  },
  {
   "cell_type": "code",
   "execution_count": 27,
   "id": "b013f603",
   "metadata": {},
   "outputs": [
    {
     "data": {
      "text/plain": [
       "<pymongo.results.InsertOneResult at 0x1b56ab20680>"
      ]
     },
     "execution_count": 27,
     "metadata": {},
     "output_type": "execute_result"
    }
   ],
   "source": [
    "#Insert a record in collections:\n",
    "field_crops.insert_many(csv_to_json(path_field_crops))\n",
    "vegetables.insert_many(csv_to_json(path_vegetables))\n",
    "fruits.insert_many(csv_to_json(path_fruits))\n",
    "weather.insert_many(csv_to_json(path_weather))\n",
    "croplist.insert_one(crops_dict)\n",
    "#combined.insert_many(csv_to_json(path_combined))\n",
    "#news.insert_many(csv_to_json(path_news))"
   ]
  },
  {
   "cell_type": "markdown",
   "id": "9cb5f432",
   "metadata": {},
   "source": [
    "## fruits-collection"
   ]
  },
  {
   "cell_type": "code",
   "execution_count": 28,
   "id": "50c042df",
   "metadata": {},
   "outputs": [
    {
     "data": {
      "text/plain": [
       "{'_id': ObjectId('61a3f98b1ce1ecfc8363752a'),\n",
       " 'County': 'Abbeville',\n",
       " 'State': 'SC',\n",
       " 'Commodity': 'Apples',\n",
       " 'Value': 3.0,\n",
       " 'Lon': -82.3785,\n",
       " 'Lat': 34.1819,\n",
       " 'Max_temp': 7.51,\n",
       " 'Min_temp': 3.21}"
      ]
     },
     "execution_count": 28,
     "metadata": {},
     "output_type": "execute_result"
    }
   ],
   "source": [
    "#To select data from a collections in MongoDB, \n",
    "fruits.find_one()"
   ]
  },
  {
   "cell_type": "code",
   "execution_count": 29,
   "id": "31763b59",
   "metadata": {},
   "outputs": [
    {
     "name": "stdout",
     "output_type": "stream",
     "text": [
      "{'_id': ObjectId('61a3f98b1ce1ecfc8363752a'), 'County': 'Abbeville', 'State': 'SC', 'Commodity': 'Apples', 'Value': 3.0, 'Lon': -82.3785, 'Lat': 34.1819, 'Max_temp': 7.51, 'Min_temp': 3.21}\n",
      "{'_id': ObjectId('61a3f98b1ce1ecfc8363752b'), 'County': 'Abbeville', 'State': 'SC', 'Commodity': 'Berry totals', 'Value': 85054.0, 'Lon': -82.3785, 'Lat': 34.1819, 'Max_temp': 7.51, 'Min_temp': 3.21}\n",
      "{'_id': ObjectId('61a3f98b1ce1ecfc8363752c'), 'County': 'Abbeville', 'State': 'SC', 'Commodity': 'Blueberries', 'Value': 84.0, 'Lon': -82.3785, 'Lat': 34.1819, 'Max_temp': 7.51, 'Min_temp': 3.21}\n",
      "{'_id': ObjectId('61a3f98b1ce1ecfc8363752d'), 'County': 'Abbeville', 'State': 'SC', 'Commodity': 'Chestnuts', 'Value': 2.0, 'Lon': -82.3785, 'Lat': 34.1819, 'Max_temp': 7.51, 'Min_temp': 3.21}\n",
      "{'_id': ObjectId('61a3f98b1ce1ecfc8363752e'), 'County': 'Abbeville', 'State': 'SC', 'Commodity': 'Fruit & tree nut totals', 'Value': 159021.0, 'Lon': -82.3785, 'Lat': 34.1819, 'Max_temp': 7.51, 'Min_temp': 3.21}\n",
      "{'_id': ObjectId('61a3f98b1ce1ecfc8363752f'), 'County': 'Abbeville', 'State': 'SC', 'Commodity': 'Hazelnuts', 'Value': 2.0, 'Lon': -82.3785, 'Lat': 34.1819, 'Max_temp': 7.51, 'Min_temp': 3.21}\n",
      "{'_id': ObjectId('61a3f98b1ce1ecfc83637530'), 'County': 'Abbeville', 'State': 'SC', 'Commodity': 'Non-citrus totals', 'Value': 3.0, 'Lon': -82.3785, 'Lat': 34.1819, 'Max_temp': 7.51, 'Min_temp': 3.21}\n",
      "{'_id': ObjectId('61a3f98b1ce1ecfc83637531'), 'County': 'Abbeville', 'State': 'SC', 'Commodity': 'Orchards', 'Value': 66.0, 'Lon': -82.3785, 'Lat': 34.1819, 'Max_temp': 7.51, 'Min_temp': 3.21}\n",
      "{'_id': ObjectId('61a3f98b1ce1ecfc83637532'), 'County': 'Abbeville', 'State': 'SC', 'Commodity': 'Pears', 'Value': 6.0, 'Lon': -82.3785, 'Lat': 34.1819, 'Max_temp': 7.51, 'Min_temp': 3.21}\n",
      "{'_id': ObjectId('61a3f98b1ce1ecfc83637533'), 'County': 'Abbeville', 'State': 'SC', 'Commodity': 'Pecans', 'Value': 114.0, 'Lon': -82.3785, 'Lat': 34.1819, 'Max_temp': 7.51, 'Min_temp': 3.21}\n"
     ]
    }
   ],
   "source": [
    "# to select (limiting to 10 only)\n",
    "for x in fruits .find({'State': 'SC'}).limit(10):\n",
    "    print(x)"
   ]
  },
  {
   "cell_type": "code",
   "execution_count": 30,
   "id": "b935e36d",
   "metadata": {},
   "outputs": [
    {
     "name": "stdout",
     "output_type": "stream",
     "text": [
      "{'County': 'Abbeville', 'Value': 3.0}\n",
      "{'County': 'Abbeville', 'Value': 85054.0}\n",
      "{'County': 'Abbeville', 'Value': 84.0}\n",
      "{'County': 'Abbeville', 'Value': 2.0}\n",
      "{'County': 'Abbeville', 'Value': 159021.0}\n",
      "{'County': 'Abbeville', 'Value': 2.0}\n",
      "{'County': 'Abbeville', 'Value': 3.0}\n",
      "{'County': 'Abbeville', 'Value': 66.0}\n",
      "{'County': 'Abbeville', 'Value': 6.0}\n",
      "{'County': 'Abbeville', 'Value': 114.0}\n"
     ]
    }
   ],
   "source": [
    "#selecting specific columns of collection election(1- will show columns)\n",
    "for x in fruits.find({}, {\"_id\":0,\"County\":1,\"Value\":1}).limit(10):\n",
    "    print(x)"
   ]
  },
  {
   "cell_type": "markdown",
   "id": "8a201dc0",
   "metadata": {},
   "source": [
    "## weather-collection"
   ]
  },
  {
   "cell_type": "code",
   "execution_count": 31,
   "id": "b84b15ac",
   "metadata": {},
   "outputs": [
    {
     "data": {
      "text/plain": [
       "{'_id': ObjectId('61a3f98c1ce1ecfc836406bf'),\n",
       " 'County': 'Aasco Municipio',\n",
       " 'State': 'PR',\n",
       " 'Zipcode': 610,\n",
       " 'Name': 'Anasco',\n",
       " 'Max_temp': 27.36,\n",
       " 'Min_temp': 23.43,\n",
       " 'Description': 'scattered clouds',\n",
       " 'Feels_like': 26.05,\n",
       " 'Sunrise': 1637750420,\n",
       " 'Sunset': 1637790643,\n",
       " 'Lon': -67.14,\n",
       " 'Lat': 18.28}"
      ]
     },
     "execution_count": 31,
     "metadata": {},
     "output_type": "execute_result"
    }
   ],
   "source": [
    "weather.find_one()"
   ]
  },
  {
   "cell_type": "code",
   "execution_count": 32,
   "id": "84133430",
   "metadata": {},
   "outputs": [
    {
     "name": "stdout",
     "output_type": "stream",
     "text": [
      "{'County': 'Aasco Municipio', 'Max_temp': 27.36}\n",
      "{'County': 'Abbeville', 'Max_temp': 7.51}\n",
      "{'County': 'Acadia Parish', 'Max_temp': 21.0}\n",
      "{'County': 'Accomack', 'Max_temp': 3.93}\n",
      "{'County': 'Ada', 'Max_temp': 6.18}\n",
      "{'County': 'Adair', 'Max_temp': 6.7}\n",
      "{'County': 'Adair', 'Max_temp': 10.13}\n",
      "{'County': 'Adair', 'Max_temp': 13.99}\n",
      "{'County': 'Adair', 'Max_temp': 18.11}\n",
      "{'County': 'Adams', 'Max_temp': 3.11}\n",
      "{'County': 'Adams', 'Max_temp': 8.35}\n",
      "{'County': 'Adams', 'Max_temp': 1.87}\n",
      "{'County': 'Adams', 'Max_temp': 16.12}\n",
      "{'County': 'Adams', 'Max_temp': 10.33}\n",
      "{'County': 'Adams', 'Max_temp': 16.3}\n",
      "{'County': 'Adams', 'Max_temp': -8.15}\n",
      "{'County': 'Adams', 'Max_temp': 2.75}\n",
      "{'County': 'Adams', 'Max_temp': 10.56}\n",
      "{'County': 'Adams', 'Max_temp': 4.28}\n",
      "{'County': 'Adams', 'Max_temp': 5.63}\n"
     ]
    }
   ],
   "source": [
    "#selecting specific columns of collection election(1- will show columns)\n",
    "for x in weather.find({}, {\"_id\":0,\"County\":1,\"Max_temp\":1}).limit(20):\n",
    "    print(x)"
   ]
  },
  {
   "cell_type": "code",
   "execution_count": null,
   "id": "be158255",
   "metadata": {},
   "outputs": [],
   "source": []
  },
  {
   "cell_type": "code",
   "execution_count": null,
   "id": "19a40869",
   "metadata": {},
   "outputs": [],
   "source": []
  }
 ],
 "metadata": {
  "kernelspec": {
   "display_name": "Python 3 (ipykernel)",
   "language": "python",
   "name": "python3"
  },
  "language_info": {
   "codemirror_mode": {
    "name": "ipython",
    "version": 3
   },
   "file_extension": ".py",
   "mimetype": "text/x-python",
   "name": "python",
   "nbconvert_exporter": "python",
   "pygments_lexer": "ipython3",
   "version": "3.9.6"
  }
 },
 "nbformat": 4,
 "nbformat_minor": 5
}
