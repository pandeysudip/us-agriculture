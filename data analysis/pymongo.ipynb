{
 "cells": [
  {
   "cell_type": "code",
   "execution_count": 1,
   "id": "f1dec16c",
   "metadata": {},
   "outputs": [],
   "source": [
    "import pymongo\n",
    "from pymongo import MongoClient\n",
    "import os\n",
    "import pandas as pd\n",
    "import json\n",
    "import crops"
   ]
  },
  {
   "cell_type": "code",
   "execution_count": 2,
   "id": "3e5d6ea1",
   "metadata": {},
   "outputs": [],
   "source": [
    "cluster=MongoClient('mongodb://localhost:27017')\n",
    "#create database\n",
    "db=cluster['us-agriculture']  \n",
    "#creating collections\n",
    "field_crops=db['field_crops'] \n",
    "vegetables=db['vegetables'] \n",
    "fruits=db['fruits'] \n",
    "weather=db['weather'] \n",
    "news=db['news'] \n",
    "croplist=db['croplist']\n",
    "countyboarder=db['countyboarder']"
   ]
  },
  {
   "cell_type": "code",
   "execution_count": 3,
   "id": "1e4c0894",
   "metadata": {},
   "outputs": [],
   "source": [
    "#to drop collection name\n",
    "#field_crops.drop()\n",
    "#vegetables.drop()\n",
    "#fruits.drop()\n",
    "#croplist.drop()"
   ]
  },
  {
   "cell_type": "code",
   "execution_count": 4,
   "id": "e68148fc",
   "metadata": {},
   "outputs": [
    {
     "data": {
      "text/plain": [
       "['ClassDB',\n",
       " 'MissionMars',\n",
       " 'admin',\n",
       " 'config',\n",
       " 'etl-project',\n",
       " 'etl_project',\n",
       " 'fruits_db',\n",
       " 'local',\n",
       " 'us-agriculture']"
      ]
     },
     "execution_count": 4,
     "metadata": {},
     "output_type": "execute_result"
    }
   ],
   "source": [
    "#to find all the databases\n",
    "cluster.list_database_names()\n",
    "#(unless you enter data for collection, database will not showup here)"
   ]
  },
  {
   "cell_type": "code",
   "execution_count": 5,
   "id": "0086476c",
   "metadata": {},
   "outputs": [
    {
     "data": {
      "text/plain": [
       "['field_crops', 'croplist', 'news', 'fruits', 'weather', 'vegetables']"
      ]
     },
     "execution_count": 5,
     "metadata": {},
     "output_type": "execute_result"
    }
   ],
   "source": [
    "#to find all collections for particular database\n",
    "#(unless you enter data for collection, collections will not showup here)\n",
    "db.list_collection_names()"
   ]
  },
  {
   "cell_type": "code",
   "execution_count": 13,
   "id": "78cbe84a",
   "metadata": {},
   "outputs": [],
   "source": [
    "# path of cleaned csv files\n",
    "path_field_crops=os.path.join('cleaned_data', 'field_crops_merged.csv')\n",
    "path_vegetables=os.path.join('cleaned_data', 'vegetables_merged.csv')\n",
    "path_fruits=os.path.join('cleaned_data', 'fruits_merged.csv')\n",
    "path_weather=os.path.join('cleaned_data', 'weather_data.csv')\n",
    "path_news=os.path.join('cleaned_data', 'news_data.csv')\n",
    "path_combined=os.path.join('cleaned_data', 'combined_data.csv')\n",
    "#for crop list\n",
    "crops_list=crops.all_crops\n",
    "crops_dict={\"crops\":crops_list}"
   ]
  },
  {
   "cell_type": "code",
   "execution_count": 14,
   "id": "0c9dd24e",
   "metadata": {},
   "outputs": [],
   "source": [
    "#creating a function to insert csv files in MongoDB collections\n",
    "def csv_to_json(filename, header=0):\n",
    "    data = pd.read_csv(filename, header=header)\n",
    "    return data.to_dict('records')#records is list like\n",
    "\n",
    "#print(csv_to_json(path_weather))\n"
   ]
  },
  {
   "cell_type": "code",
   "execution_count": 15,
   "id": "a39b128c",
   "metadata": {},
   "outputs": [
    {
     "data": {
      "text/plain": [
       "<pymongo.results.InsertOneResult at 0x7fc2fe7f0b40>"
      ]
     },
     "execution_count": 15,
     "metadata": {},
     "output_type": "execute_result"
    }
   ],
   "source": [
    "#Insert a record in collections:\n",
    "field_crops.insert_many(csv_to_json(path_field_crops))\n",
    "vegetables.insert_many(csv_to_json(path_vegetables))\n",
    "fruits.insert_many(csv_to_json(path_fruits))\n",
    "weather.insert_many(csv_to_json(path_weather))\n",
    "croplist.insert_one(crops_dict)\n",
    "#combined.insert_many(csv_to_json(path_combined))\n",
    "#news.insert_many(csv_to_json(path_news))"
   ]
  },
  {
   "cell_type": "code",
   "execution_count": 6,
   "id": "aa6930d8",
   "metadata": {},
   "outputs": [
    {
     "ename": "TypeError",
     "evalue": "document must be an instance of dict, bson.son.SON, bson.raw_bson.RawBSONDocument, or a type that inherits from collections.MutableMapping",
     "output_type": "error",
     "traceback": [
      "\u001b[0;31m---------------------------------------------------------------------------\u001b[0m",
      "\u001b[0;31mTypeError\u001b[0m                                 Traceback (most recent call last)",
      "\u001b[0;32m/var/folders/ld/_spx9cwj74z4zm921xp1zssh0000gn/T/ipykernel_44199/2632207575.py\u001b[0m in \u001b[0;36m<module>\u001b[0;34m\u001b[0m\n\u001b[0;32m----> 1\u001b[0;31m \u001b[0mcountyboarder\u001b[0m\u001b[0;34m.\u001b[0m\u001b[0minsert_many\u001b[0m\u001b[0;34m(\u001b[0m\u001b[0;34m\"us-county.geojson\"\u001b[0m\u001b[0;34m)\u001b[0m\u001b[0;34m\u001b[0m\u001b[0;34m\u001b[0m\u001b[0m\n\u001b[0m",
      "\u001b[0;32m~/.local/lib/python3.8/site-packages/pymongo/collection.py\u001b[0m in \u001b[0;36minsert_many\u001b[0;34m(self, documents, ordered, bypass_document_validation, session)\u001b[0m\n\u001b[1;32m    767\u001b[0m         \u001b[0mwrite_concern\u001b[0m \u001b[0;34m=\u001b[0m \u001b[0mself\u001b[0m\u001b[0;34m.\u001b[0m\u001b[0m_write_concern_for\u001b[0m\u001b[0;34m(\u001b[0m\u001b[0msession\u001b[0m\u001b[0;34m)\u001b[0m\u001b[0;34m\u001b[0m\u001b[0;34m\u001b[0m\u001b[0m\n\u001b[1;32m    768\u001b[0m         \u001b[0mblk\u001b[0m \u001b[0;34m=\u001b[0m \u001b[0m_Bulk\u001b[0m\u001b[0;34m(\u001b[0m\u001b[0mself\u001b[0m\u001b[0;34m,\u001b[0m \u001b[0mordered\u001b[0m\u001b[0;34m,\u001b[0m \u001b[0mbypass_document_validation\u001b[0m\u001b[0;34m)\u001b[0m\u001b[0;34m\u001b[0m\u001b[0;34m\u001b[0m\u001b[0m\n\u001b[0;32m--> 769\u001b[0;31m         \u001b[0mblk\u001b[0m\u001b[0;34m.\u001b[0m\u001b[0mops\u001b[0m \u001b[0;34m=\u001b[0m \u001b[0;34m[\u001b[0m\u001b[0mdoc\u001b[0m \u001b[0;32mfor\u001b[0m \u001b[0mdoc\u001b[0m \u001b[0;32min\u001b[0m \u001b[0mgen\u001b[0m\u001b[0;34m(\u001b[0m\u001b[0;34m)\u001b[0m\u001b[0;34m]\u001b[0m\u001b[0;34m\u001b[0m\u001b[0;34m\u001b[0m\u001b[0m\n\u001b[0m\u001b[1;32m    770\u001b[0m         \u001b[0mblk\u001b[0m\u001b[0;34m.\u001b[0m\u001b[0mexecute\u001b[0m\u001b[0;34m(\u001b[0m\u001b[0mwrite_concern\u001b[0m\u001b[0;34m,\u001b[0m \u001b[0msession\u001b[0m\u001b[0;34m=\u001b[0m\u001b[0msession\u001b[0m\u001b[0;34m)\u001b[0m\u001b[0;34m\u001b[0m\u001b[0;34m\u001b[0m\u001b[0m\n\u001b[1;32m    771\u001b[0m         \u001b[0;32mreturn\u001b[0m \u001b[0mInsertManyResult\u001b[0m\u001b[0;34m(\u001b[0m\u001b[0minserted_ids\u001b[0m\u001b[0;34m,\u001b[0m \u001b[0mwrite_concern\u001b[0m\u001b[0;34m.\u001b[0m\u001b[0macknowledged\u001b[0m\u001b[0;34m)\u001b[0m\u001b[0;34m\u001b[0m\u001b[0;34m\u001b[0m\u001b[0m\n",
      "\u001b[0;32m~/.local/lib/python3.8/site-packages/pymongo/collection.py\u001b[0m in \u001b[0;36m<listcomp>\u001b[0;34m(.0)\u001b[0m\n\u001b[1;32m    767\u001b[0m         \u001b[0mwrite_concern\u001b[0m \u001b[0;34m=\u001b[0m \u001b[0mself\u001b[0m\u001b[0;34m.\u001b[0m\u001b[0m_write_concern_for\u001b[0m\u001b[0;34m(\u001b[0m\u001b[0msession\u001b[0m\u001b[0;34m)\u001b[0m\u001b[0;34m\u001b[0m\u001b[0;34m\u001b[0m\u001b[0m\n\u001b[1;32m    768\u001b[0m         \u001b[0mblk\u001b[0m \u001b[0;34m=\u001b[0m \u001b[0m_Bulk\u001b[0m\u001b[0;34m(\u001b[0m\u001b[0mself\u001b[0m\u001b[0;34m,\u001b[0m \u001b[0mordered\u001b[0m\u001b[0;34m,\u001b[0m \u001b[0mbypass_document_validation\u001b[0m\u001b[0;34m)\u001b[0m\u001b[0;34m\u001b[0m\u001b[0;34m\u001b[0m\u001b[0m\n\u001b[0;32m--> 769\u001b[0;31m         \u001b[0mblk\u001b[0m\u001b[0;34m.\u001b[0m\u001b[0mops\u001b[0m \u001b[0;34m=\u001b[0m \u001b[0;34m[\u001b[0m\u001b[0mdoc\u001b[0m \u001b[0;32mfor\u001b[0m \u001b[0mdoc\u001b[0m \u001b[0;32min\u001b[0m \u001b[0mgen\u001b[0m\u001b[0;34m(\u001b[0m\u001b[0;34m)\u001b[0m\u001b[0;34m]\u001b[0m\u001b[0;34m\u001b[0m\u001b[0;34m\u001b[0m\u001b[0m\n\u001b[0m\u001b[1;32m    770\u001b[0m         \u001b[0mblk\u001b[0m\u001b[0;34m.\u001b[0m\u001b[0mexecute\u001b[0m\u001b[0;34m(\u001b[0m\u001b[0mwrite_concern\u001b[0m\u001b[0;34m,\u001b[0m \u001b[0msession\u001b[0m\u001b[0;34m=\u001b[0m\u001b[0msession\u001b[0m\u001b[0;34m)\u001b[0m\u001b[0;34m\u001b[0m\u001b[0;34m\u001b[0m\u001b[0m\n\u001b[1;32m    771\u001b[0m         \u001b[0;32mreturn\u001b[0m \u001b[0mInsertManyResult\u001b[0m\u001b[0;34m(\u001b[0m\u001b[0minserted_ids\u001b[0m\u001b[0;34m,\u001b[0m \u001b[0mwrite_concern\u001b[0m\u001b[0;34m.\u001b[0m\u001b[0macknowledged\u001b[0m\u001b[0;34m)\u001b[0m\u001b[0;34m\u001b[0m\u001b[0;34m\u001b[0m\u001b[0m\n",
      "\u001b[0;32m~/.local/lib/python3.8/site-packages/pymongo/collection.py\u001b[0m in \u001b[0;36mgen\u001b[0;34m()\u001b[0m\n\u001b[1;32m    758\u001b[0m             \u001b[0;34m\"\"\"A generator that validates documents and handles _ids.\"\"\"\u001b[0m\u001b[0;34m\u001b[0m\u001b[0;34m\u001b[0m\u001b[0m\n\u001b[1;32m    759\u001b[0m             \u001b[0;32mfor\u001b[0m \u001b[0mdocument\u001b[0m \u001b[0;32min\u001b[0m \u001b[0mdocuments\u001b[0m\u001b[0;34m:\u001b[0m\u001b[0;34m\u001b[0m\u001b[0;34m\u001b[0m\u001b[0m\n\u001b[0;32m--> 760\u001b[0;31m                 \u001b[0mcommon\u001b[0m\u001b[0;34m.\u001b[0m\u001b[0mvalidate_is_document_type\u001b[0m\u001b[0;34m(\u001b[0m\u001b[0;34m\"document\"\u001b[0m\u001b[0;34m,\u001b[0m \u001b[0mdocument\u001b[0m\u001b[0;34m)\u001b[0m\u001b[0;34m\u001b[0m\u001b[0;34m\u001b[0m\u001b[0m\n\u001b[0m\u001b[1;32m    761\u001b[0m                 \u001b[0;32mif\u001b[0m \u001b[0;32mnot\u001b[0m \u001b[0misinstance\u001b[0m\u001b[0;34m(\u001b[0m\u001b[0mdocument\u001b[0m\u001b[0;34m,\u001b[0m \u001b[0mRawBSONDocument\u001b[0m\u001b[0;34m)\u001b[0m\u001b[0;34m:\u001b[0m\u001b[0;34m\u001b[0m\u001b[0;34m\u001b[0m\u001b[0m\n\u001b[1;32m    762\u001b[0m                     \u001b[0;32mif\u001b[0m \u001b[0;34m\"_id\"\u001b[0m \u001b[0;32mnot\u001b[0m \u001b[0;32min\u001b[0m \u001b[0mdocument\u001b[0m\u001b[0;34m:\u001b[0m\u001b[0;34m\u001b[0m\u001b[0;34m\u001b[0m\u001b[0m\n",
      "\u001b[0;32m~/.local/lib/python3.8/site-packages/pymongo/common.py\u001b[0m in \u001b[0;36mvalidate_is_document_type\u001b[0;34m(option, value)\u001b[0m\n\u001b[1;32m    501\u001b[0m     \u001b[0;34m\"\"\"Validate the type of method arguments that expect a MongoDB document.\"\"\"\u001b[0m\u001b[0;34m\u001b[0m\u001b[0;34m\u001b[0m\u001b[0m\n\u001b[1;32m    502\u001b[0m     \u001b[0;32mif\u001b[0m \u001b[0;32mnot\u001b[0m \u001b[0misinstance\u001b[0m\u001b[0;34m(\u001b[0m\u001b[0mvalue\u001b[0m\u001b[0;34m,\u001b[0m \u001b[0;34m(\u001b[0m\u001b[0mabc\u001b[0m\u001b[0;34m.\u001b[0m\u001b[0mMutableMapping\u001b[0m\u001b[0;34m,\u001b[0m \u001b[0mRawBSONDocument\u001b[0m\u001b[0;34m)\u001b[0m\u001b[0;34m)\u001b[0m\u001b[0;34m:\u001b[0m\u001b[0;34m\u001b[0m\u001b[0;34m\u001b[0m\u001b[0m\n\u001b[0;32m--> 503\u001b[0;31m         raise TypeError(\"%s must be an instance of dict, bson.son.SON, \"\n\u001b[0m\u001b[1;32m    504\u001b[0m                         \u001b[0;34m\"bson.raw_bson.RawBSONDocument, or \"\u001b[0m\u001b[0;34m\u001b[0m\u001b[0;34m\u001b[0m\u001b[0m\n\u001b[1;32m    505\u001b[0m                         \u001b[0;34m\"a type that inherits from \"\u001b[0m\u001b[0;34m\u001b[0m\u001b[0;34m\u001b[0m\u001b[0m\n",
      "\u001b[0;31mTypeError\u001b[0m: document must be an instance of dict, bson.son.SON, bson.raw_bson.RawBSONDocument, or a type that inherits from collections.MutableMapping"
     ]
    }
   ],
   "source": [
    "countyboarder.insert_many(\"us-county.geojson\")"
   ]
  },
  {
   "cell_type": "markdown",
   "id": "c56708df",
   "metadata": {},
   "source": [
    "## fruits-collection"
   ]
  },
  {
   "cell_type": "code",
   "execution_count": 16,
   "id": "fa89c594",
   "metadata": {},
   "outputs": [
    {
     "data": {
      "text/plain": [
       "{'_id': ObjectId('61a2b8ffdde2446ec28a77b0'),\n",
       " 'County': 'Abbeville',\n",
       " 'State': 'SC',\n",
       " 'Commodity': 'Apples',\n",
       " 'Value': 3.0,\n",
       " 'Lon': -82.3785,\n",
       " 'Lat': 34.1819,\n",
       " 'Max_temp': 7.51,\n",
       " 'Min_temp': 3.21}"
      ]
     },
     "execution_count": 16,
     "metadata": {},
     "output_type": "execute_result"
    }
   ],
   "source": [
    "#To select data from a collections in MongoDB, \n",
    "fruits.find_one()"
   ]
  },
  {
   "cell_type": "code",
   "execution_count": 35,
   "id": "1f6df2a8",
   "metadata": {},
   "outputs": [
    {
     "name": "stdout",
     "output_type": "stream",
     "text": [
      "{'_id': ObjectId('619ee3359620cdfe88dd4f4d'), 'County': 'Abbeville', 'State': 'SC', 'Commodity': 'CORN', 'Value': 579.0, 'Lon': -82.3785, 'Lat': 34.1819, 'Max_temp': 7.51, 'Min_temp': 3.21}\n",
      "{'_id': ObjectId('619ee3359620cdfe88dd4f4e'), 'County': 'Abbeville', 'State': 'SC', 'Commodity': 'COTTON', 'Value': 4.0, 'Lon': -82.3785, 'Lat': 34.1819, 'Max_temp': 7.51, 'Min_temp': 3.21}\n",
      "{'_id': ObjectId('619ee3359620cdfe88dd4f4f'), 'County': 'Abbeville', 'State': 'SC', 'Commodity': 'FIELD CROPS, OTHER', 'Value': 825137.0, 'Lon': -82.3785, 'Lat': 34.1819, 'Max_temp': 7.51, 'Min_temp': 3.21}\n",
      "{'_id': ObjectId('619ee3359620cdfe88dd4f50'), 'County': 'Abbeville', 'State': 'SC', 'Commodity': 'GRAIN', 'Value': 10021.0, 'Lon': -82.3785, 'Lat': 34.1819, 'Max_temp': 7.51, 'Min_temp': 3.21}\n",
      "{'_id': ObjectId('619ee3359620cdfe88dd4f51'), 'County': 'Abbeville', 'State': 'SC', 'Commodity': 'HAY', 'Value': 31587.0, 'Lon': -82.3785, 'Lat': 34.1819, 'Max_temp': 7.51, 'Min_temp': 3.21}\n",
      "{'_id': ObjectId('619ee3359620cdfe88dd4f52'), 'County': 'Abbeville', 'State': 'SC', 'Commodity': 'HAY & HAYLAGE', 'Value': 33232.0, 'Lon': -82.3785, 'Lat': 34.1819, 'Max_temp': 7.51, 'Min_temp': 3.21}\n",
      "{'_id': ObjectId('619ee3359620cdfe88dd4f53'), 'County': 'Abbeville', 'State': 'SC', 'Commodity': 'HAYLAGE', 'Value': 6254.0, 'Lon': -82.3785, 'Lat': 34.1819, 'Max_temp': 7.51, 'Min_temp': 3.21}\n",
      "{'_id': ObjectId('619ee3359620cdfe88dd4f54'), 'County': 'Abbeville', 'State': 'SC', 'Commodity': 'OATS', 'Value': 4.0, 'Lon': -82.3785, 'Lat': 34.1819, 'Max_temp': 7.51, 'Min_temp': 3.21}\n",
      "{'_id': ObjectId('619ee3359620cdfe88dd4f55'), 'County': 'Abbeville', 'State': 'SC', 'Commodity': 'PEAS', 'Value': 2.0, 'Lon': -82.3785, 'Lat': 34.1819, 'Max_temp': 7.51, 'Min_temp': 3.21}\n",
      "{'_id': ObjectId('619ee3359620cdfe88dd4f56'), 'County': 'Abbeville', 'State': 'SC', 'Commodity': 'RYE', 'Value': 1.0, 'Lon': -82.3785, 'Lat': 34.1819, 'Max_temp': 7.51, 'Min_temp': 3.21}\n"
     ]
    }
   ],
   "source": [
    "# to select (limiting to 10 only)\n",
    "for x in fruits .find({'State': 'SC'}).limit(10):\n",
    "    print(x)"
   ]
  },
  {
   "cell_type": "code",
   "execution_count": 36,
   "id": "37241bec",
   "metadata": {},
   "outputs": [
    {
     "name": "stdout",
     "output_type": "stream",
     "text": [
      "{'County': 'Abbeville', 'Value': 579.0}\n",
      "{'County': 'Abbeville', 'Value': 4.0}\n",
      "{'County': 'Abbeville', 'Value': 825137.0}\n",
      "{'County': 'Abbeville', 'Value': 10021.0}\n",
      "{'County': 'Abbeville', 'Value': 31587.0}\n",
      "{'County': 'Abbeville', 'Value': 33232.0}\n",
      "{'County': 'Abbeville', 'Value': 6254.0}\n",
      "{'County': 'Abbeville', 'Value': 4.0}\n",
      "{'County': 'Abbeville', 'Value': 2.0}\n",
      "{'County': 'Abbeville', 'Value': 1.0}\n"
     ]
    }
   ],
   "source": [
    "#selecting specific columns of collection election(1- will show columns)\n",
    "for x in fruits.find({}, {\"_id\":0,\"County\":1,\"Value\":1}).limit(10):\n",
    "    print(x)"
   ]
  },
  {
   "cell_type": "markdown",
   "id": "0a95489d",
   "metadata": {},
   "source": [
    "## weather-collection"
   ]
  },
  {
   "cell_type": "code",
   "execution_count": 37,
   "id": "c440071e",
   "metadata": {},
   "outputs": [
    {
     "data": {
      "text/plain": [
       "{'_id': ObjectId('619ee3369620cdfe88ddcba3'),\n",
       " 'County': 'Aasco Municipio',\n",
       " 'State': 'PR',\n",
       " 'Zipcode': 610,\n",
       " 'Name': 'Anasco',\n",
       " 'Max_temp': 27.36,\n",
       " 'Min_temp': 23.43,\n",
       " 'Description': 'scattered clouds',\n",
       " 'Feels_like': 26.05,\n",
       " 'Sunrise': 1637750420,\n",
       " 'Sunset': 1637790643,\n",
       " 'Lon': -67.14,\n",
       " 'Lat': 18.28}"
      ]
     },
     "execution_count": 37,
     "metadata": {},
     "output_type": "execute_result"
    }
   ],
   "source": [
    "weather.find_one()"
   ]
  },
  {
   "cell_type": "code",
   "execution_count": 87,
   "id": "3a7db93b",
   "metadata": {},
   "outputs": [
    {
     "name": "stdout",
     "output_type": "stream",
     "text": [
      "{'County': 'Aasco Municipio', 'Max_temp': 26.77}\n",
      "{'County': 'Abbeville ', 'Max_temp': 7.47}\n",
      "{'County': 'Acadia Parish', 'Max_temp': 18.32}\n",
      "{'County': 'Accomack ', 'Max_temp': 7.93}\n",
      "{'County': 'Ada ', 'Max_temp': 6.29}\n",
      "{'County': 'Adair ', 'Max_temp': 8.41}\n",
      "{'County': 'Adair ', 'Max_temp': 10.13}\n",
      "{'County': 'Adair ', 'Max_temp': 10.65}\n",
      "{'County': 'Adair ', 'Max_temp': 14.85}\n",
      "{'County': 'Adams ', 'Max_temp': 7.42}\n",
      "{'County': 'Adams ', 'Max_temp': 9.08}\n",
      "{'County': 'Adams ', 'Max_temp': 3.62}\n",
      "{'County': 'Adams ', 'Max_temp': 12.23}\n",
      "{'County': 'Adams ', 'Max_temp': 4.96}\n",
      "{'County': 'Adams ', 'Max_temp': 13.3}\n",
      "{'County': 'Adams ', 'Max_temp': -0.69}\n",
      "{'County': 'Adams ', 'Max_temp': 9.88}\n",
      "{'County': 'Adams ', 'Max_temp': 9.68}\n",
      "{'County': 'Adams ', 'Max_temp': 4.58}\n",
      "{'County': 'Adams ', 'Max_temp': 4.1}\n"
     ]
    }
   ],
   "source": [
    "#selecting specific columns of collection election(1- will show columns)\n",
    "for x in weather.find({}, {\"_id\":0,\"County\":1,\"Max_temp\":1}).limit(20):\n",
    "    print(x)"
   ]
  },
  {
   "cell_type": "code",
   "execution_count": null,
   "id": "6266486e",
   "metadata": {},
   "outputs": [],
   "source": []
  }
 ],
 "metadata": {
  "kernelspec": {
   "display_name": "Python 3 (ipykernel)",
   "language": "python",
   "name": "python3"
  },
  "language_info": {
   "codemirror_mode": {
    "name": "ipython",
    "version": 3
   },
   "file_extension": ".py",
   "mimetype": "text/x-python",
   "name": "python",
   "nbconvert_exporter": "python",
   "pygments_lexer": "ipython3",
   "version": "3.8.10"
  }
 },
 "nbformat": 4,
 "nbformat_minor": 5
}
