{
 "cells": [
  {
   "cell_type": "code",
   "execution_count": 2,
   "id": "78779171",
   "metadata": {},
   "outputs": [],
   "source": [
    "import time\n",
    "import pandas as pd\n",
    "from splinter import Browser\n",
    "from bs4 import BeautifulSoup\n",
    "from webdriver_manager.chrome import ChromeDriverManager"
   ]
  },
  {
   "cell_type": "code",
   "execution_count": 5,
   "id": "05aa2650",
   "metadata": {},
   "outputs": [
    {
     "name": "stderr",
     "output_type": "stream",
     "text": [
      "[WDM] - \n",
      "\n",
      "[WDM] - ====== WebDriver manager ======\n",
      "[WDM] - Current google-chrome version is 96.0.4664\n",
      "[WDM] - Get LATEST driver version for 96.0.4664\n",
      "[WDM] - Driver [/Users/sudippandey/.wdm/drivers/chromedriver/mac64/96.0.4664.45/chromedriver] found in cache\n"
     ]
    },
    {
     "name": "stdout",
     "output_type": "stream",
     "text": [
      "https://static.agriculture.com/styles/square_large_featured_large/s3/s3fs-public/image/2017/08/21/orchard.jpg?timestamp=1503340267\n",
      "The Corn Maze Wave\n",
      "\n",
      "    The popularity of a football game tradition has found its way to a corn field. “Waves of grain” has new meaning in an Iowa corn maze.  \n"
     ]
    }
   ],
   "source": [
    "executable_path={\"executable_path\":ChromeDriverManager().install()}\n",
    "browser=Browser('chrome', **executable_path, headless=False)\n",
    "#visit news link\n",
    "x=\"strawberry\"\n",
    "url=f\"https://www.agriculture.com/search?search_api_views_fulltext={x}&sort_by=search_api_relevance&sort_by=search_api_relevance\"\n",
    "browser.visit(url)\n",
    "\n",
    "time.sleep(2)\n",
    "\n",
    "#scrape page into soup\n",
    "html=browser.html\n",
    "soup=BeautifulSoup(html, \"lxml\")\n",
    "\n",
    "#get the data\n",
    "div=soup.find('div', {'class':'content'})\n",
    "news_title=div.find('h2').text\n",
    "news_p=div.find('div', {'class':'field-body'}).text\n",
    "featured_image=soup.find_all('img')[0][\"data-srcset\"]\n",
    "featured_image_url=featured_image[:-5]\n",
    "#store data in dictionary\n",
    "\n",
    "print(featured_image_url)\n",
    "#store data in dictionary\n",
    "\n",
    "print(news_title)\n",
    "print(news_p)"
   ]
  },
  {
   "cell_type": "code",
   "execution_count": 9,
   "id": "73ab33ef",
   "metadata": {},
   "outputs": [
    {
     "name": "stderr",
     "output_type": "stream",
     "text": [
      "[WDM] - \n",
      "\n",
      "[WDM] - ====== WebDriver manager ======\n",
      "[WDM] - Current google-chrome version is 96.0.4664\n",
      "[WDM] - Get LATEST driver version for 96.0.4664\n",
      "[WDM] - Driver [/Users/sudippandey/.wdm/drivers/chromedriver/mac64/96.0.4664.45/chromedriver] found in cache\n"
     ]
    },
    {
     "name": "stdout",
     "output_type": "stream",
     "text": [
      "https://world-crops.com/wp-content/uploads/063-Broccoli-400x300.jpg\n"
     ]
    }
   ],
   "source": [
    "executable_path={\"executable_path\":ChromeDriverManager().install()}\n",
    "browser=Browser('chrome', **executable_path, headless=False)\n",
    "#visit mars\n",
    "\n",
    "url=\"https://world-crops.com/broccoli/\"\n",
    "browser.visit(url)\n",
    "\n",
    "time.sleep(2)\n",
    "\n",
    "#scrape page into soup\n",
    "html=browser.html\n",
    "soup=BeautifulSoup(html, \"lxml\")\n",
    "\n",
    "#get the data\n",
    "\n",
    "featured_image=soup.find_all('img')[1][\"src\"]\n",
    "featured_image_url=featured_image\n",
    "#store data in dictionary\n",
    "\n",
    "print(featured_image_url)\n"
   ]
  },
  {
   "cell_type": "code",
   "execution_count": null,
   "id": "eeb9094f",
   "metadata": {},
   "outputs": [],
   "source": []
  }
 ],
 "metadata": {
  "kernelspec": {
   "display_name": "Python 3 (ipykernel)",
   "language": "python",
   "name": "python3"
  },
  "language_info": {
   "codemirror_mode": {
    "name": "ipython",
    "version": 3
   },
   "file_extension": ".py",
   "mimetype": "text/x-python",
   "name": "python",
   "nbconvert_exporter": "python",
   "pygments_lexer": "ipython3",
   "version": "3.8.10"
  }
 },
 "nbformat": 4,
 "nbformat_minor": 5
}
