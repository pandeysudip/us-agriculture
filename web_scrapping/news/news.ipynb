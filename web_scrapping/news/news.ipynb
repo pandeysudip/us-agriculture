{
 "cells": [
  {
   "cell_type": "code",
   "execution_count": 4,
   "id": "33495c85",
   "metadata": {},
   "outputs": [],
   "source": [
    "import time\n",
    "import pandas as pd\n",
    "from splinter import Browser\n",
    "from bs4 import BeautifulSoup\n",
    "from webdriver_manager.chrome import ChromeDriverManager"
   ]
  },
  {
   "cell_type": "code",
   "execution_count": 5,
   "id": "5c9d91a6",
   "metadata": {},
   "outputs": [
    {
     "name": "stderr",
     "output_type": "stream",
     "text": [
      "[WDM] - \n",
      "\n",
      "[WDM] - ====== WebDriver manager ======\n",
      "[WDM] - Current google-chrome version is 96.0.4664\n",
      "[WDM] - Get LATEST driver version for 96.0.4664\n",
      "[WDM] - Driver [/Users/sudippandey/.wdm/drivers/chromedriver/mac64/96.0.4664.45/chromedriver] found in cache\n"
     ]
    },
    {
     "name": "stdout",
     "output_type": "stream",
     "text": [
      "https://static.agriculture.com/styles/square_large_featured_large/s3/s3fs-public/image/2017/08/21/orchard.jpg?timestamp=1503340267\n",
      "The Corn Maze Wave\n",
      "\n",
      "    The popularity of a football game tradition has found its way to a corn field. “Waves of grain” has new meaning in an Iowa corn maze.  \n"
     ]
    }
   ],
   "source": [
    "executable_path={\"executable_path\":ChromeDriverManager().install()}\n",
    "browser=Browser('chrome', **executable_path, headless=False)\n",
    "#visit news link\n",
    "x=\"maze\"\n",
    "url=f\"https://www.agriculture.com/search?search_api_views_fulltext={x}&sort_by=search_api_relevance&sort_by=search_api_relevance\"\n",
    "browser.visit(url)\n",
    "\n",
    "time.sleep(2)\n",
    "\n",
    "#scrape page into soup\n",
    "html=browser.html\n",
    "soup=BeautifulSoup(html, \"lxml\")\n",
    "\n",
    "#get the data\n",
    "div=soup.find('div', {'class':'content'})\n",
    "news_title=div.find('h2').text\n",
    "news_p=div.find('div', {'class':'field-body'}).text\n",
    "featured_image=soup.find_all('img')[0][\"data-srcset\"]\n",
    "featured_image_url=featured_image[:-5]\n",
    "#store data in dictionary\n",
    "\n",
    "print(featured_image_url)\n",
    "#store data in dictionary\n",
    "\n",
    "print(news_title)\n",
    "print(news_p)"
   ]
  },
  {
   "cell_type": "code",
   "execution_count": 12,
   "id": "7dbe6eea",
   "metadata": {},
   "outputs": [
    {
     "name": "stderr",
     "output_type": "stream",
     "text": [
      "[WDM] - \n",
      "\n",
      "[WDM] - ====== WebDriver manager ======\n",
      "[WDM] - Current google-chrome version is 96.0.4664\n",
      "[WDM] - Get LATEST driver version for 96.0.4664\n",
      "[WDM] - Driver [/Users/sudippandey/.wdm/drivers/chromedriver/mac64/96.0.4664.45/chromedriver] found in cache\n"
     ]
    },
    {
     "name": "stdout",
     "output_type": "stream",
     "text": [
      "https://world-crops.com/wp-content/uploads/063-Broccoli-400x300.jpg\n"
     ]
    }
   ],
   "source": [
    "executable_path={\"executable_path\":ChromeDriverManager().install()}\n",
    "browser=Browser('chrome', **executable_path, headless=False)\n",
    "#visit mars\n",
    "x='broccoli'\n",
    "url=f\"https://world-crops.com/{x}/\"\n",
    "browser.visit(url)\n",
    "\n",
    "time.sleep(2)\n",
    "\n",
    "#scrape page into soup\n",
    "html=browser.html\n",
    "soup=BeautifulSoup(html, \"lxml\")\n",
    "\n",
    "#get the data\n",
    "\n",
    "featured_image=soup.find_all('img')[1][\"src\"]\n",
    "featured_image_url=featured_image\n",
    "#store data in dictionary\n",
    "\n",
    "print(featured_image_url)\n"
   ]
  },
  {
   "cell_type": "code",
   "execution_count": 18,
   "id": "aac555f7",
   "metadata": {},
   "outputs": [],
   "source": [
    "import time\n",
    "import pandas as pd\n",
    "from splinter import Browser\n",
    "from bs4 import BeautifulSoup\n",
    "from webdriver_manager.chrome import ChromeDriverManager\n",
    "from crops import all_crops\n",
    "\n",
    "\n",
    "def scraper(x):\n",
    "    # set up Splinter\n",
    "    executable_path = {\"executable_path\": ChromeDriverManager().install()}\n",
    "    browser = Browser('chrome', **executable_path, headless=True)\n",
    "    \n",
    "    url = f\"https://www.agriculture.com/search?search_api_views_fulltext={x}&sort_by=search_api_relevance&sort_by=search_api_relevance\"\n",
    "    browser.visit(url)\n",
    "\n",
    "    time.sleep(2)\n",
    "\n",
    "    # scrape page into soup\n",
    "    html = browser.html\n",
    "    soup = BeautifulSoup(html, \"lxml\")\n",
    "\n",
    "    # get the data\n",
    "    div = soup.find('div', {'class': 'content'})\n",
    "    news_title = div.find('h2').text\n",
    "    news_p = div.find('div', {'class': 'field-body'}).text\n",
    "    featured_image = soup.find_all('img')[0][\"data-srcset\"]\n",
    "    news_image_url = featured_image[:-5]\n",
    "    # store data in dictionary\n",
    "    news_data = {\n",
    "        'news_title': news_title,\n",
    "        'news_p': news_p,\n",
    "        'news_image_url': news_image_url\n",
    "    }\n",
    "\n",
    "    # visit image\n",
    "\n",
    "    url2 = f\"https://world-crops.com/{x}/\"\n",
    "    browser.visit(url2)\n",
    "\n",
    "    time.sleep(2)\n",
    "\n",
    "    # scrape page into soup\n",
    "    html_img = browser.html\n",
    "    soup_img = BeautifulSoup(html_img, \"lxml\")\n",
    "\n",
    "    # get the data\n",
    "\n",
    "    image = soup_img.find_all('img')[1][\"src\"]\n",
    "\n",
    "    # store data in dictionary\n",
    "\n",
    "    news_data['image'] = image\n",
    "\n",
    "    browser.quit()\n",
    "    return news_data\n"
   ]
  },
  {
   "cell_type": "code",
   "execution_count": 19,
   "id": "d38710cd",
   "metadata": {},
   "outputs": [
    {
     "name": "stderr",
     "output_type": "stream",
     "text": [
      "[WDM] - \n",
      "\n",
      "[WDM] - ====== WebDriver manager ======\n",
      "[WDM] - Current google-chrome version is 96.0.4664\n",
      "[WDM] - Get LATEST driver version for 96.0.4664\n",
      "[WDM] - Driver [/Users/sudippandey/.wdm/drivers/chromedriver/mac64/96.0.4664.45/chromedriver] found in cache\n"
     ]
    },
    {
     "data": {
      "text/plain": [
       "{'news_title': 'U.S. to ban use of pesticide chlorpyrifos on food crops over health concerns',\n",
       " 'news_p': '\\nCHICAGO, Aug 18 (Reuters) - The U.S. Environmental\\nProtection Agency on Wednesday said it will ban the use on food\\ncrops of the pesticide chlorpyrifos, which has been linked to\\nhealth problems in children.The decision is a victory for environmental activists that\\nhave fought against the chemical that is applied to crops\\nranging from corn and soybeans to Brussels sprouts and broccoli.(Reporting by Tom Polansek, Editing by Franklin Paul) ',\n",
       " 'news_image_url': 'https://static.agriculture.com/styles/square_large_featured_large/s3/s3fs-public/image/2012/02/17/img_4f3ecaa4906db_22347.jpg?timestamp=1458435287',\n",
       " 'image': 'https://world-crops.com/wp-content/uploads/063-Broccoli-400x300.jpg'}"
      ]
     },
     "execution_count": 19,
     "metadata": {},
     "output_type": "execute_result"
    }
   ],
   "source": [
    "scraper(x='broccoli')"
   ]
  },
  {
   "cell_type": "code",
   "execution_count": null,
   "id": "d6e3fae1",
   "metadata": {},
   "outputs": [],
   "source": []
  }
 ],
 "metadata": {
  "kernelspec": {
   "display_name": "Python 3 (ipykernel)",
   "language": "python",
   "name": "python3"
  },
  "language_info": {
   "codemirror_mode": {
    "name": "ipython",
    "version": 3
   },
   "file_extension": ".py",
   "mimetype": "text/x-python",
   "name": "python",
   "nbconvert_exporter": "python",
   "pygments_lexer": "ipython3",
   "version": "3.8.10"
  }
 },
 "nbformat": 4,
 "nbformat_minor": 5
}
