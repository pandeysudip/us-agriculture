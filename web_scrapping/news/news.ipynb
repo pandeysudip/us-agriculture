{
 "cells": [
  {
   "cell_type": "code",
   "execution_count": 2,
   "id": "d64b77d1",
   "metadata": {},
   "outputs": [],
   "source": [
    "import time\n",
    "import pandas as pd\n",
    "from splinter import Browser\n",
    "from bs4 import BeautifulSoup\n",
    "from webdriver_manager.chrome import ChromeDriverManager"
   ]
  },
  {
   "cell_type": "code",
   "execution_count": null,
   "id": "a38f0a10",
   "metadata": {},
   "outputs": [],
   "source": []
  },
  {
   "cell_type": "code",
   "execution_count": 5,
   "id": "422e721b",
   "metadata": {},
   "outputs": [
    {
     "name": "stderr",
     "output_type": "stream",
     "text": [
      "[WDM] - \n",
      "\n",
      "[WDM] - ====== WebDriver manager ======\n",
      "[WDM] - Current google-chrome version is 96.0.4664\n",
      "[WDM] - Get LATEST driver version for 96.0.4664\n",
      "[WDM] - Driver [/Users/sudippandey/.wdm/drivers/chromedriver/mac64/96.0.4664.45/chromedriver] found in cache\n"
     ]
    },
    {
     "name": "stdout",
     "output_type": "stream",
     "text": [
      "https://static.agriculture.com/styles/square_large_featured_large/s3/s3fs-public/image/2017/08/21/orchard.jpg?timestamp=1503340267\n",
      "The Corn Maze Wave\n",
      "\n",
      "    The popularity of a football game tradition has found its way to a corn field. “Waves of grain” has new meaning in an Iowa corn maze.  \n"
     ]
    }
   ],
   "source": [
    "executable_path={\"executable_path\":ChromeDriverManager().install()}\n",
    "browser=Browser('chrome', **executable_path, headless=False)\n",
    "#visit mars\n",
    "x=\"maze\"\n",
    "url=f\"https://www.agriculture.com/search?search_api_views_fulltext={x}&sort_by=search_api_relevance&sort_by=search_api_relevance\"\n",
    "browser.visit(url)\n",
    "\n",
    "time.sleep(2)\n",
    "\n",
    "#scrape page into soup\n",
    "html=browser.html\n",
    "soup=BeautifulSoup(html, \"lxml\")\n",
    "\n",
    "#get the data\n",
    "div=soup.find('div', {'class':'content'})\n",
    "news_title=div.find('h2').text\n",
    "news_p=div.find('div', {'class':'field-body'}).text\n",
    "featured_image=soup.find_all('img')[0][\"data-srcset\"]\n",
    "featured_image_url=featured_image[:-5]\n",
    "#store data in dictionary\n",
    "\n",
    "print(featured_image_url)\n",
    "#store data in dictionary\n",
    "\n",
    "print(news_title)\n",
    "print(news_p)"
   ]
  },
  {
   "cell_type": "code",
   "execution_count": 9,
   "id": "13416906",
   "metadata": {},
   "outputs": [
    {
     "name": "stderr",
     "output_type": "stream",
     "text": [
      "[WDM] - \n",
      "\n",
      "[WDM] - ====== WebDriver manager ======\n",
      "[WDM] - Current google-chrome version is 96.0.4664\n",
      "[WDM] - Get LATEST driver version for 96.0.4664\n",
      "[WDM] - Driver [/Users/sudippandey/.wdm/drivers/chromedriver/mac64/96.0.4664.45/chromedriver] found in cache\n"
     ]
    },
    {
     "name": "stdout",
     "output_type": "stream",
     "text": [
      "https://world-crops.com/wp-content/uploads/063-Broccoli-400x300.jpg\n"
     ]
    }
   ],
   "source": [
    "executable_path={\"executable_path\":ChromeDriverManager().install()}\n",
    "browser=Browser('chrome', **executable_path, headless=False)\n",
    "#visit mars\n",
    "\n",
    "url=\"https://world-crops.com/broccoli/\"\n",
    "browser.visit(url)\n",
    "\n",
    "time.sleep(2)\n",
    "\n",
    "#scrape page into soup\n",
    "html=browser.html\n",
    "soup=BeautifulSoup(html, \"lxml\")\n",
    "\n",
    "#get the data\n",
    "\n",
    "featured_image=soup.find_all('img')[1][\"src\"]\n",
    "featured_image_url=featured_image\n",
    "#store data in dictionary\n",
    "\n",
    "print(featured_image_url)\n"
   ]
  },
  {
   "cell_type": "code",
   "execution_count": null,
   "id": "6d1a2422",
   "metadata": {},
   "outputs": [],
   "source": []
  },
  {
   "cell_type": "code",
   "execution_count": null,
   "id": "58790da5",
   "metadata": {},
   "outputs": [],
   "source": []
  },
  {
   "cell_type": "code",
   "execution_count": null,
   "id": "ac96cb38",
   "metadata": {},
   "outputs": [],
   "source": []
  },
  {
   "cell_type": "code",
   "execution_count": 2,
   "id": "268966ee",
   "metadata": {},
   "outputs": [],
   "source": [
    "#NASA Mars News\n",
    "def scraper():\n",
    "    #set up Splinter\n",
    "    executable_path={\"executable_path\":ChromeDriverManager().install()}\n",
    "    browser=Browser('chrome', **executable_path, headless=True)\n",
    "    #visit mars\n",
    "    url=\"https://redplanetscience.com\"\n",
    "    browser.visit(url)\n",
    "    \n",
    "    time.sleep(2)\n",
    "    \n",
    "    #scrape page into soup\n",
    "    html=browser.html\n",
    "    soup=BeautifulSoup(html, \"lxml\")\n",
    "    \n",
    "    #get the data\n",
    "    div=soup.find('div', {'class':'row'})\n",
    "    news_title=div.find('div', {'class':'content_title'}).text\n",
    "    news_p=div.find('div', {'class':'article_teaser_body'}).text\n",
    "    #store data in dictionary\n",
    "    mars_data={\n",
    "        'news_title':'',\n",
    "        'news_p':''   \n",
    "    }\n",
    "    \n",
    "    browser.quit()\n",
    "    return mars_data"
   ]
  },
  {
   "cell_type": "code",
   "execution_count": null,
   "id": "58b56c94",
   "metadata": {},
   "outputs": [],
   "source": [
    "#JPL Mars Space Images - Featured Image\n",
    "def img_scraper():\n",
    "    #set up Splinter\n",
    "    executable_path={\"executable_path\":ChromeDriverManager().install()}\n",
    "    browser=Browser('chrome', **executable_path, headless=True)\n",
    "    \n",
    "    url=\"https://spaceimages-mars.com\"\n",
    "    browser.visit(url)\n",
    "    \n",
    "    time.sleep(2)\n",
    "    \n",
    "    #scrape page into soup\n",
    "    html=browser.html\n",
    "    soup=BeautifulSoup(html, \"lxml\")\n",
    "    \n",
    "    #get the data\n",
    "    div=soup.find('div', {'class':'floating-text-area'})\n",
    "    featured_image_url=div.find(img).[\"src\"]\n",
    "    #store data in dictionary\n",
    "    mars_img={\n",
    "        'featured_image_url':featured_image_url\n",
    "        \n",
    "    }\n",
    "    \n",
    "    browser.quit()\n",
    "    \n",
    "    return mars_img"
   ]
  },
  {
   "cell_type": "code",
   "execution_count": 53,
   "id": "a433e7a1",
   "metadata": {},
   "outputs": [],
   "source": [
    "#mars facts\n",
    "url=\"https://galaxyfacts-mars.com\"\n",
    "tables=pd.read_html(url)\n",
    "df=tables[0]\n",
    "df.rename(columns={0:'comprasion', 1:'Mars', 2:'Earth'}, inplace=True)\n",
    "df.set_index('comprasion', inplace=True)\n",
    "df=df.iloc[1:]\n",
    "df.to_html('../html_table.html')"
   ]
  },
  {
   "cell_type": "code",
   "execution_count": 52,
   "id": "8424757b",
   "metadata": {},
   "outputs": [
    {
     "data": {
      "text/plain": [
       "'<table border=\"1\" class=\"dataframe\">\\n  <thead>\\n    <tr style=\"text-align: right;\">\\n      <th></th>\\n      <th>Mars</th>\\n      <th>Earth</th>\\n    </tr>\\n    <tr>\\n      <th>comprasion</th>\\n      <th></th>\\n      <th></th>\\n    </tr>\\n  </thead>\\n  <tbody>\\n    <tr>\\n      <th>Diameter:</th>\\n      <td>6,779 km</td>\\n      <td>12,742 km</td>\\n    </tr>\\n    <tr>\\n      <th>Mass:</th>\\n      <td>6.39 × 10^23 kg</td>\\n      <td>5.97 × 10^24 kg</td>\\n    </tr>\\n    <tr>\\n      <th>Moons:</th>\\n      <td>2</td>\\n      <td>1</td>\\n    </tr>\\n    <tr>\\n      <th>Distance from Sun:</th>\\n      <td>227,943,824 km</td>\\n      <td>149,598,262 km</td>\\n    </tr>\\n    <tr>\\n      <th>Length of Year:</th>\\n      <td>687 Earth days</td>\\n      <td>365.24 days</td>\\n    </tr>\\n    <tr>\\n      <th>Temperature:</th>\\n      <td>-87 to -5 °C</td>\\n      <td>-88 to 58°C</td>\\n    </tr>\\n  </tbody>\\n</table>'"
      ]
     },
     "execution_count": 52,
     "metadata": {},
     "output_type": "execute_result"
    }
   ],
   "source": [
    "html_table"
   ]
  },
  {
   "cell_type": "code",
   "execution_count": null,
   "id": "70febcb3",
   "metadata": {},
   "outputs": [],
   "source": [
    "#mars_hemisphere\n",
    "def mars_hemisphere():\n",
    "    #set up Splinter\n",
    "    executable_path={\"executable_path\":ChromeDriverManager().install()}\n",
    "browser=Browser('chrome', **executable_path, headless=False)\n",
    "\n",
    "links=['cerberus.html', 'schiaparelli.html', 'syrtis.html', 'valles.html']\n",
    "#get the data\n",
    "hemisphere_image_urls = []\n",
    "for link in links:\n",
    "    url=\"https://marshemispheres.com\"+'/'+link\n",
    "    browser.visit(url)\n",
    "\n",
    "    time.sleep(2)\n",
    "\n",
    "    #scrape page into soup\n",
    "    html=browser.html\n",
    "    soup=BeautifulSoup(html, \"lxml\")\n",
    "    \n",
    "    news_p=soup.find_all('img')[4] ['src']\n",
    "    news_p_url=\"https://marshemispheres.com\"+'/'+news_p\n",
    "    div=soup.find('div', {'class':'cover'})\n",
    "    news_title=div.find('h2').text\n",
    "    #store data in dictionary\n",
    "    img_data={\n",
    "        'news_title':news_title,\n",
    "        'news_p':news_p_url \n",
    "    }\n",
    "\n",
    "    hemisphere_image_urls.append(img_data)\n",
    "    browser.quit()"
   ]
  },
  {
   "cell_type": "code",
   "execution_count": null,
   "id": "1e88ffc7",
   "metadata": {},
   "outputs": [],
   "source": []
  },
  {
   "cell_type": "code",
   "execution_count": null,
   "id": "898c477f",
   "metadata": {},
   "outputs": [],
   "source": [
    "#all in one function\n",
    "def scraper_all():\n",
    "    #set up Splinter\n",
    "    executable_path={\"executable_path\":ChromeDriverManager().install()}\n",
    "    browser=Browser('chrome', **executable_path, headless=True)\n",
    "    #visit mars\n",
    "    url=\"https://redplanetscience.com\"\n",
    "    browser.visit(url)\n",
    "    \n",
    "    time.sleep(2)\n",
    "    \n",
    "    #scrape page into soup\n",
    "    html=browser.html\n",
    "    soup=BeautifulSoup(html, \"lxml\")\n",
    "    \n",
    "    #get the data\n",
    "    div=soup.find('div', {'class':'row'})\n",
    "    news_title=div.find('div', {'class':'content_title'}).text\n",
    "    news_p=div.find('div', {'class':'article_teaser_body'}).text\n",
    "    #store data in dictionary\n",
    "    mars_data={\n",
    "        'news_title':'',\n",
    "        'news_p':'',\n",
    "        'featured_image_url':''\n",
    "        \n",
    "    }\n",
    "    \n",
    "    browser.quit()\n",
    "    \n",
    "    #second\n",
    "    url=\"https://spaceimages-mars.com\"\n",
    "    browser.visit(url)\n",
    "    \n",
    "    time.sleep(2)\n",
    "    \n",
    "    #scrape page into soup\n",
    "    html=browser.html\n",
    "    soup=BeautifulSoup(html, \"lxml\")\n",
    "    \n",
    "    #get the data\n",
    "    div=soup.find('div', {'class':'row'})\n",
    "    featured_image_url=div.find('div', {'class':'article_teaser_body'}).text\n",
    "    #store data in dictionary\n",
    "    mars_data={\n",
    "        'featured_image_url':''\n",
    "        \n",
    "    }\n",
    "    \n",
    "    browser.quit()\n",
    "    \n",
    "    #third\n",
    "    url=\"https://galaxyfacts-mars.com\"\n",
    "    tables=pd.read_html(url)\n",
    "    df=tables[]\n",
    "    \n",
    "    #fourth\n",
    "    url=\"https://marshemispheres.com\"\n",
    "    browser.visit(url)\n",
    "    \n",
    "    time.sleep(2)\n",
    "    \n",
    " \n",
    "    \n",
    "    mars_image={}\n",
    "    #get the data\n",
    "    hemisphere_image_urls = []\n",
    "    for x in range(1,6):\n",
    "        #scrape page into soup\n",
    "        html=browser.html\n",
    "        soup=BeautifulSoup(html, \"lxml\")\n",
    "        \n",
    "        div=soup.find('div', {'class':'row'})\n",
    "        title = soup.find_all('span', class_='text')\n",
    "        image_url=soup.find_all('span', class_='text')\n",
    "        \n",
    "        img_data={\n",
    "            'title':title,\n",
    "            \"img_url\":image_url\n",
    "        }\n",
    "        \n",
    "        hemisphere_image_urls.append(img_data)\n",
    "    \n",
    "    \n",
    "        browser.links.find_by_partial_text('Next').click()\n",
    "    \n",
    "        #store data in dictionary\n",
    "        mars_data={\n",
    "            'featured_image_url':''\n",
    "        \n",
    "        }\n",
    "    \n",
    "    browser.quit()\n",
    "    \n",
    "\n",
    "    \n",
    "    return mars_data, df"
   ]
  },
  {
   "cell_type": "code",
   "execution_count": null,
   "id": "b6f50300",
   "metadata": {},
   "outputs": [],
   "source": []
  },
  {
   "cell_type": "code",
   "execution_count": null,
   "id": "afd6474a",
   "metadata": {},
   "outputs": [],
   "source": []
  },
  {
   "cell_type": "code",
   "execution_count": null,
   "id": "e41b7f30",
   "metadata": {},
   "outputs": [],
   "source": []
  },
  {
   "cell_type": "code",
   "execution_count": 14,
   "id": "a8a586b6",
   "metadata": {},
   "outputs": [
    {
     "name": "stderr",
     "output_type": "stream",
     "text": [
      "[WDM] - \n",
      "\n",
      "[WDM] - ====== WebDriver manager ======\n",
      "[WDM] - Current google-chrome version is 96.0.4664\n",
      "[WDM] - Get LATEST driver version for 96.0.4664\n",
      "[WDM] - Driver [/Users/sudippandey/.wdm/drivers/chromedriver/mac64/96.0.4664.45/chromedriver] found in cache\n"
     ]
    },
    {
     "name": "stdout",
     "output_type": "stream",
     "text": [
      "https://static.agriculture.com/styles/square_large_featured_large/s3/s3fs-public/image/2010/12/17/img_4d0b74974cc88_13297.jpg?timestamp=1458434959\n",
      "Cotton\n",
      "\n",
      "Cotton\n",
      "\n"
     ]
    }
   ],
   "source": [
    "executable_path={\"executable_path\":ChromeDriverManager().install()}\n",
    "browser=Browser('chrome', **executable_path, headless=True)\n",
    "#visit mars\n",
    "x=\"cotton\"\n",
    "url=f\"https://www.agriculture.com/search?search_api_views_fulltext={x}&sort_by=search_api_relevance&sort_by=search_api_relevance\"\n",
    "browser.visit(url)\n",
    "\n",
    "time.sleep(2)\n",
    "\n",
    "#scrape page into soup\n",
    "html=browser.html\n",
    "soup=BeautifulSoup(html, \"lxml\")\n",
    "\n",
    "#get the data\n",
    "div=soup.find('div', {'class':'content'})\n",
    "news_title=div.find('h2').text\n",
    "news_p=div.find('div', {'class':'field-body'}).text\n",
    "featured_image=soup.find_all('img')[0][\"data-srcset\"]\n",
    "featured_image_url=featured_image[:-5]\n",
    "#store data in dictionary\n",
    "\n",
    "print(featured_image_url)\n",
    "#store data in dictionary\n",
    "\n",
    "print(news_title)\n",
    "print(news_p)\n"
   ]
  },
  {
   "cell_type": "code",
   "execution_count": 60,
   "id": "e5ceeb8e",
   "metadata": {},
   "outputs": [
    {
     "name": "stderr",
     "output_type": "stream",
     "text": [
      "[WDM] - \n",
      "\n",
      "[WDM] - ====== WebDriver manager ======\n",
      "[WDM] - Current google-chrome version is 95.0.4638\n",
      "[WDM] - Get LATEST driver version for 95.0.4638\n",
      "[WDM] - Driver [/Users/sudippandey/.wdm/drivers/chromedriver/mac64/95.0.4638.54/chromedriver] found in cache\n"
     ]
    },
    {
     "name": "stdout",
     "output_type": "stream",
     "text": [
      "https://spaceimages-mars.com/image/featured/mars2.jpg\n"
     ]
    }
   ],
   "source": [
    "#set up Splinter\n",
    "executable_path={\"executable_path\":ChromeDriverManager().install()}\n",
    "browser=Browser('chrome', **executable_path, headless=False)\n",
    "\n",
    "url=\"https://spaceimages-mars.com\"\n",
    "browser.visit(url)\n",
    "\n",
    "time.sleep(2)\n",
    "\n",
    "#scrape page into soup\n",
    "html=browser.html\n",
    "soup=BeautifulSoup(html, \"lxml\")\n",
    "\n",
    "#get the data\n",
    "featured_image=soup.find_all('img')[1][\"src\"]\n",
    "featured_image_url=url+'/'+featured_image\n",
    "#store data in dictionary\n",
    "\n",
    "print(featured_image_url)"
   ]
  },
  {
   "cell_type": "code",
   "execution_count": 76,
   "id": "d8f8f40d",
   "metadata": {},
   "outputs": [
    {
     "name": "stderr",
     "output_type": "stream",
     "text": [
      "[WDM] - \n",
      "\n",
      "[WDM] - ====== WebDriver manager ======\n",
      "[WDM] - Current google-chrome version is 95.0.4638\n",
      "[WDM] - Get LATEST driver version for 95.0.4638\n",
      "[WDM] - Driver [/Users/sudippandey/.wdm/drivers/chromedriver/mac64/95.0.4638.54/chromedriver] found in cache\n"
     ]
    },
    {
     "name": "stdout",
     "output_type": "stream",
     "text": [
      "['#', '#', 'https://astrogeology.usgs.gov/search', 'cerberus.html', 'cerberus.html', 'schiaparelli.html', 'schiaparelli.html', 'syrtis.html', 'syrtis.html', 'valles.html', 'valles.html', '#', '#', '#', '#', '#']\n"
     ]
    }
   ],
   "source": [
    "executable_path={\"executable_path\":ChromeDriverManager().install()}\n",
    "browser=Browser('chrome', **executable_path, headless=False)\n",
    "\n",
    "\n",
    "url=\"https://marshemispheres.com\"\n",
    "browser.visit(url)\n",
    "\n",
    "time.sleep(2)\n",
    "\n",
    "#get the data\n",
    "hemisphere_image_urls = []\n",
    "\n",
    "#scrape page into soup\n",
    "html=browser.html\n",
    "soup=BeautifulSoup(html, \"lxml\")\n",
    "\n",
    "#get the data\n",
    "\n",
    "div=soup.find('div', {'class':'item'})\n",
    "div2=div.find('div', {'class':'description'})\n",
    "news_title=div2.find('h3').text\n",
    "news_p=div.find_all('img')[0] ['src']\n",
    "news_p_url=url+'/'+news_p\n",
    "#store data in dictionary\n",
    "img_data={\n",
    "    'news_title':news_title,\n",
    "    'news_p':news_p_url \n",
    "}\n",
    "\n",
    "hemisphere_image_urls.append(img_data)\n",
    "\n",
    "\n",
    "print(links_with_text)"
   ]
  },
  {
   "cell_type": "code",
   "execution_count": 87,
   "id": "97b57076",
   "metadata": {},
   "outputs": [
    {
     "name": "stderr",
     "output_type": "stream",
     "text": [
      "[WDM] - \n",
      "\n",
      "[WDM] - ====== WebDriver manager ======\n",
      "[WDM] - Current google-chrome version is 95.0.4638\n",
      "[WDM] - Get LATEST driver version for 95.0.4638\n",
      "[WDM] - Driver [/Users/sudippandey/.wdm/drivers/chromedriver/mac64/95.0.4638.54/chromedriver] found in cache\n"
     ]
    },
    {
     "name": "stdout",
     "output_type": "stream",
     "text": [
      "[{'news_title': 'Cerberus Hemisphere Enhanced', 'news_p': 'https://marshemispheres.com/images/f5e372a36edfa389625da6d0cc25d905_cerberus_enhanced.tif_full.jpg'}, {'news_title': 'Schiaparelli Hemisphere Enhanced', 'news_p': 'https://marshemispheres.com/images/3778f7b43bbbc89d6e3cfabb3613ba93_schiaparelli_enhanced.tif_full.jpg'}, {'news_title': 'Syrtis Major Hemisphere Enhanced', 'news_p': 'https://marshemispheres.com/images/555e6403a6ddd7ba16ddb0e471cadcf7_syrtis_major_enhanced.tif_full.jpg'}, {'news_title': 'Valles Marineris Hemisphere Enhanced', 'news_p': 'https://marshemispheres.com/images/b3c7c6c9138f57b4756be9b9c43e3a48_valles_marineris_enhanced.tif_full.jpg'}]\n"
     ]
    }
   ],
   "source": [
    "executable_path={\"executable_path\":ChromeDriverManager().install()}\n",
    "browser=Browser('chrome', **executable_path, headless=False)\n",
    "\n",
    "links=['cerberus.html', 'schiaparelli.html', 'syrtis.html', 'valles.html']\n",
    "#get the data\n",
    "hemisphere_image_urls = []\n",
    "for link in links:\n",
    "    url=\"https://marshemispheres.com\"+'/'+link\n",
    "    browser.visit(url)\n",
    "\n",
    "    time.sleep(2)\n",
    "\n",
    "    #scrape page into soup\n",
    "    html=browser.html\n",
    "    soup=BeautifulSoup(html, \"lxml\")\n",
    "    \n",
    "    news_p=soup.find_all('img')[4] ['src']\n",
    "    news_p_url=\"https://marshemispheres.com\"+'/'+news_p\n",
    "    div=soup.find('div', {'class':'cover'})\n",
    "    news_title=div.find('h2').text\n",
    "    #store data in dictionary\n",
    "    img_data={\n",
    "        'news_title':news_title,\n",
    "        'news_p':news_p_url \n",
    "    }\n",
    "\n",
    "    hemisphere_image_urls.append(img_data)\n",
    "\n",
    "\n",
    "print(hemisphere_image_urls)"
   ]
  }
 ],
 "metadata": {
  "kernelspec": {
   "display_name": "Python 3 (ipykernel)",
   "language": "python",
   "name": "python3"
  },
  "language_info": {
   "codemirror_mode": {
    "name": "ipython",
    "version": 3
   },
   "file_extension": ".py",
   "mimetype": "text/x-python",
   "name": "python",
   "nbconvert_exporter": "python",
   "pygments_lexer": "ipython3",
   "version": "3.8.10"
  }
 },
 "nbformat": 4,
 "nbformat_minor": 5
}
