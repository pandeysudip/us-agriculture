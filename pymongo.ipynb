{
 "cells": [
  {
   "cell_type": "code",
   "execution_count": 26,
   "id": "d13b7979",
   "metadata": {},
   "outputs": [],
   "source": [
    "import pymongo\n",
    "from pymongo import MongoClient\n",
    "import os\n",
    "import pandas as pd"
   ]
  },
  {
   "cell_type": "code",
   "execution_count": 27,
   "id": "e508a250",
   "metadata": {},
   "outputs": [],
   "source": [
    "cluster=MongoClient('mongodb://localhost:27017')\n",
    "#create database\n",
    "db=cluster['us-agriculture']  \n",
    "#creating collections\n",
    "field_crops=db['field_crops'] \n",
    "vegetables=db['vegetables'] \n",
    "fruits=db['fruits'] \n",
    "weather=db['weather'] \n",
    "news=db['news'] \n",
    "cropslist=db['cropslist']\n"
   ]
  },
  {
   "cell_type": "code",
   "execution_count": 28,
   "id": "03df0891",
   "metadata": {},
   "outputs": [
    {
     "data": {
      "text/plain": [
       "['AgNews',\n",
       " 'admin',\n",
       " 'classDB',\n",
       " 'config',\n",
       " 'local',\n",
       " 'mars',\n",
       " 'marsDatabase',\n",
       " 'mars_database',\n",
       " 'mars_db',\n",
       " 'marsalmost',\n",
       " 'marsalmost1',\n",
       " 'marsdb',\n",
       " 'marsdbb',\n",
       " 'marstest',\n",
       " 'travel_db',\n",
       " 'us-agriculture',\n",
       " 'weather_app']"
      ]
     },
     "execution_count": 28,
     "metadata": {},
     "output_type": "execute_result"
    }
   ],
   "source": [
    "#to find all the databases\n",
    "cluster.list_database_names()\n",
    "#(unless you enter data for collection, database will not showup here)"
   ]
  },
  {
   "cell_type": "code",
   "execution_count": 31,
   "id": "5ab639ab",
   "metadata": {},
   "outputs": [
    {
     "data": {
      "text/plain": [
       "['weather', 'vegetables', 'cropslist', 'fruits', 'news', 'field_crops']"
      ]
     },
     "execution_count": 31,
     "metadata": {},
     "output_type": "execute_result"
    }
   ],
   "source": [
    "#to find all collections for particular database\n",
    "#(unless you enter data for collection, dcollections will not showup here)\n",
    "db.list_collection_names()"
   ]
  },
  {
   "cell_type": "code",
   "execution_count": 24,
   "id": "e13301a8",
   "metadata": {},
   "outputs": [],
   "source": [
    "# path of cleaned csv files\n",
    "path_field_crops=os.path.join('cleaned_data', 'field_crops_data.csv')\n",
    "path_vegetables=os.path.join('cleaned_data', 'vegetables_data.csv')\n",
    "path_fruits=os.path.join('cleaned_data', 'fruits_data.csv')\n",
    "path_weather=os.path.join('cleaned_data', 'weather_data.csv')\n",
    "path_news=os.path.join('cleaned_data', 'news_data.csv')\n",
    "path_lists=os.path.join('cleaned_data', 'crops_ulist.csv')\n"
   ]
  },
  {
   "cell_type": "code",
   "execution_count": null,
   "id": "d01ff114",
   "metadata": {},
   "outputs": [],
   "source": []
  },
  {
   "cell_type": "code",
   "execution_count": 25,
   "id": "ac9acb28",
   "metadata": {},
   "outputs": [],
   "source": [
    "#creating a function to insert csv files in MongoDB collections\n",
    "def csv_to_json(filename, header=0):\n",
    "    data = pd.read_csv(filename, header=header)\n",
    "    return data.to_dict('records')#records is list like\n",
    "\n",
    "#print(csv_to_json(path_election))\n"
   ]
  },
  {
   "cell_type": "code",
   "execution_count": 30,
   "id": "8e03bd73",
   "metadata": {},
   "outputs": [
    {
     "data": {
      "text/plain": [
       "<pymongo.results.InsertManyResult at 0x2ab9ce27d80>"
      ]
     },
     "execution_count": 30,
     "metadata": {},
     "output_type": "execute_result"
    }
   ],
   "source": [
    "#Insert a record in collections:\n",
    "field_crops.insert_many(csv_to_json(path_field_crops))\n",
    "vegetables.insert_many(csv_to_json(path_vegetables))\n",
    "fruits.insert_many(csv_to_json(path_fruits))\n",
    "weather.insert_many(csv_to_json(path_weather))\n",
    "cropslist.insert_many(csv_to_json(path_lists))\n",
    "#news.insert_many(csv_to_json(path_news))"
   ]
  },
  {
   "cell_type": "markdown",
   "id": "782db196",
   "metadata": {},
   "source": [
    "## fruits-collection"
   ]
  },
  {
   "cell_type": "code",
   "execution_count": 9,
   "id": "7c6aa596",
   "metadata": {},
   "outputs": [
    {
     "data": {
      "text/plain": [
       "{'_id': ObjectId('619b310a24d3dce9ada5c7b9'),\n",
       " 'County': 'ABBEVILLE',\n",
       " 'State': 'SOUTH CAROLINA',\n",
       " 'Commodity': 'CORN',\n",
       " 'Value': 579.0}"
      ]
     },
     "execution_count": 9,
     "metadata": {},
     "output_type": "execute_result"
    }
   ],
   "source": [
    "#To select data from a collections in MongoDB, \n",
    "fruits.find_one()"
   ]
  },
  {
   "cell_type": "code",
   "execution_count": 10,
   "id": "b5e9a9b3",
   "metadata": {},
   "outputs": [
    {
     "name": "stdout",
     "output_type": "stream",
     "text": [
      "{'_id': ObjectId('619b310a24d3dce9ada5c7b9'), 'County': 'ABBEVILLE', 'State': 'SOUTH CAROLINA', 'Commodity': 'CORN', 'Value': 579.0}\n",
      "{'_id': ObjectId('619b310a24d3dce9ada5c7ba'), 'County': 'ABBEVILLE', 'State': 'SOUTH CAROLINA', 'Commodity': 'COTTON', 'Value': 4.0}\n",
      "{'_id': ObjectId('619b310a24d3dce9ada5c7bb'), 'County': 'ABBEVILLE', 'State': 'SOUTH CAROLINA', 'Commodity': 'FIELD CROPS, OTHER', 'Value': 825137.0}\n",
      "{'_id': ObjectId('619b310a24d3dce9ada5c7bc'), 'County': 'ABBEVILLE', 'State': 'SOUTH CAROLINA', 'Commodity': 'GRAIN', 'Value': 10021.0}\n",
      "{'_id': ObjectId('619b310a24d3dce9ada5c7bd'), 'County': 'ABBEVILLE', 'State': 'SOUTH CAROLINA', 'Commodity': 'HAY', 'Value': 31587.0}\n",
      "{'_id': ObjectId('619b310a24d3dce9ada5c7be'), 'County': 'ABBEVILLE', 'State': 'SOUTH CAROLINA', 'Commodity': 'HAY & HAYLAGE', 'Value': 33232.0}\n",
      "{'_id': ObjectId('619b310a24d3dce9ada5c7bf'), 'County': 'ABBEVILLE', 'State': 'SOUTH CAROLINA', 'Commodity': 'HAYLAGE', 'Value': 6254.0}\n",
      "{'_id': ObjectId('619b310a24d3dce9ada5c7c0'), 'County': 'ABBEVILLE', 'State': 'SOUTH CAROLINA', 'Commodity': 'OATS', 'Value': 4.0}\n",
      "{'_id': ObjectId('619b310a24d3dce9ada5c7c1'), 'County': 'ABBEVILLE', 'State': 'SOUTH CAROLINA', 'Commodity': 'PEAS', 'Value': 2.0}\n",
      "{'_id': ObjectId('619b310a24d3dce9ada5c7c2'), 'County': 'ABBEVILLE', 'State': 'SOUTH CAROLINA', 'Commodity': 'RYE', 'Value': 1.0}\n"
     ]
    }
   ],
   "source": [
    "# to select (limiting to 10 only)\n",
    "for x in fruits .find({'State': 'SOUTH CAROLINA'}).limit(10):\n",
    "    print(x)"
   ]
  },
  {
   "cell_type": "code",
   "execution_count": null,
   "id": "eb08e4e5",
   "metadata": {},
   "outputs": [],
   "source": [
    "# to select only county where democrat won(limiting to 10 only)\n",
    "#.find({which column to include}, {which column to display(1 to display)})\n",
    "#1 will show that columns\n",
    "for x in usda .find({'Win':\"D\"},{\"_id\":0,\"County\":1}).limit(10):\n",
    "    print(x)"
   ]
  },
  {
   "cell_type": "code",
   "execution_count": null,
   "id": "86e20170",
   "metadata": {},
   "outputs": [],
   "source": [
    "#selecting specific columns of collection election(1- will show columns)\n",
    "for x in usda.find({}, {\"_id\":0,\"County\":1,\"Win\":1}).limit(10):\n",
    "    print(x)"
   ]
  },
  {
   "cell_type": "code",
   "execution_count": null,
   "id": "18e8c8f8",
   "metadata": {},
   "outputs": [],
   "source": [
    "#to update collections\n",
    "#election.update({}, {$set:{}})\n",
    "usda.update_one({\"_id\":\"6180100eab2967b695b8f303\"}, {\"$set\":{\"County\":\"Abbeville\"}})"
   ]
  },
  {
   "cell_type": "code",
   "execution_count": null,
   "id": "4c1b9337",
   "metadata": {},
   "outputs": [],
   "source": []
  }
 ],
 "metadata": {
  "kernelspec": {
   "display_name": "Python 3 (ipykernel)",
   "language": "python",
   "name": "python3"
  },
  "language_info": {
   "codemirror_mode": {
    "name": "ipython",
    "version": 3
   },
   "file_extension": ".py",
   "mimetype": "text/x-python",
   "name": "python",
   "nbconvert_exporter": "python",
   "pygments_lexer": "ipython3",
   "version": "3.9.6"
  }
 },
 "nbformat": 4,
 "nbformat_minor": 5
}
