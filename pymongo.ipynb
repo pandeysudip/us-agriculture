{
 "cells": [
  {
   "cell_type": "code",
   "execution_count": 5,
   "id": "84e4d0e3",
   "metadata": {},
   "outputs": [],
   "source": [
    "import pymongo\n",
    "from pymongo import MongoClient\n",
    "import os\n",
    "import pandas as pd"
   ]
  },
  {
   "cell_type": "code",
   "execution_count": 10,
   "id": "613af959",
   "metadata": {},
   "outputs": [],
   "source": [
    "cluster=MongoClient('mongodb://localhost:27017')\n",
    "#create database\n",
    "db=cluster['us-agriculture']  \n",
    "#creating collections\n",
    "usda=db['usda_data'] \n",
    "weather=db['weather'] \n",
    "news=db['news'] \n"
   ]
  },
  {
   "cell_type": "code",
   "execution_count": 11,
   "id": "aaf9f0db",
   "metadata": {},
   "outputs": [
    {
     "data": {
      "text/plain": [
       "['ClassDB',\n",
       " 'MissionMars',\n",
       " 'admin',\n",
       " 'config',\n",
       " 'etl-project',\n",
       " 'etl_project',\n",
       " 'fruits_db',\n",
       " 'us-agriculture']"
      ]
     },
     "execution_count": 11,
     "metadata": {},
     "output_type": "execute_result"
    }
   ],
   "source": [
    "#to find all the databases\n",
    "cluster.list_database_names()\n",
    "#(unless you enter data for collection, database will not showup here)"
   ]
  },
  {
   "cell_type": "code",
   "execution_count": 12,
   "id": "2c4b84d8",
   "metadata": {},
   "outputs": [
    {
     "data": {
      "text/plain": [
       "[]"
      ]
     },
     "execution_count": 12,
     "metadata": {},
     "output_type": "execute_result"
    }
   ],
   "source": [
    "#to find all collections for particular database\n",
    "#(unless you enter data for collection, dcollections will not showup here)\n",
    "db.list_collection_names()"
   ]
  },
  {
   "cell_type": "code",
   "execution_count": null,
   "id": "9442e504",
   "metadata": {},
   "outputs": [],
   "source": [
    "# path of cleaned csv files\n",
    "path_usda=os.path.join('..','data', 'cleaned_data', 'usda_data.csv')\n",
    "path_weather=os.path.join('..','data', 'cleaned_data', 'weather_data.csv')\n",
    "path_news=os.path.join('..','data', 'cleaned_data', 'news_data.csv')\n"
   ]
  },
  {
   "cell_type": "code",
   "execution_count": null,
   "id": "62894c90",
   "metadata": {},
   "outputs": [],
   "source": [
    "#creating a function to insert csv files in MongoDB collections\n",
    "def csv_to_json(filename, header=0):\n",
    "    data = pd.read_csv(filename, header=header)\n",
    "    return data.to_dict('records')#records is list like\n",
    "\n",
    "#print(csv_to_json(path_election))\n"
   ]
  },
  {
   "cell_type": "code",
   "execution_count": null,
   "id": "6c1a0cd8",
   "metadata": {},
   "outputs": [],
   "source": [
    "#Insert a record in collections:\n",
    "usda.insert_many(csv_to_json(path_usda))\n",
    "weather.insert_many(csv_to_json(path_weather))\n",
    "news.insert_many(csv_to_json(news_vaccine))"
   ]
  },
  {
   "cell_type": "markdown",
   "id": "d4e041d7",
   "metadata": {},
   "source": [
    "## usda-collection"
   ]
  },
  {
   "cell_type": "code",
   "execution_count": null,
   "id": "c38b1710",
   "metadata": {},
   "outputs": [],
   "source": [
    "#To select data from a collections in MongoDB, \n",
    "usda.find_one()"
   ]
  },
  {
   "cell_type": "code",
   "execution_count": null,
   "id": "2225c4a6",
   "metadata": {},
   "outputs": [],
   "source": [
    "# to select (limiting to 10 only)\n",
    "for x in usda .find({'Win':\"D\"}).limit(10):\n",
    "    print(x)"
   ]
  },
  {
   "cell_type": "code",
   "execution_count": null,
   "id": "4848d8b8",
   "metadata": {},
   "outputs": [],
   "source": [
    "# to select only county where democrat won(limiting to 10 only)\n",
    "#.find({which column to include}, {which column to display(1 to display)})\n",
    "#1 will show that columns\n",
    "for x in usda .find({'Win':\"D\"},{\"_id\":0,\"County\":1}).limit(10):\n",
    "    print(x)"
   ]
  },
  {
   "cell_type": "code",
   "execution_count": null,
   "id": "132cc0df",
   "metadata": {},
   "outputs": [],
   "source": [
    "#selecting specific columns of collection election(1- will show columns)\n",
    "for x in usda.find({}, {\"_id\":0,\"County\":1,\"Win\":1}).limit(10):\n",
    "    print(x)"
   ]
  },
  {
   "cell_type": "code",
   "execution_count": null,
   "id": "a94c29c9",
   "metadata": {},
   "outputs": [],
   "source": [
    "#to update collections\n",
    "#election.update({}, {$set:{}})\n",
    "usda.update_one({\"_id\":\"6180100eab2967b695b8f303\"}, {\"$set\":{\"County\":\"Abbeville\"}})"
   ]
  },
  {
   "cell_type": "code",
   "execution_count": null,
   "id": "d3ba14dd",
   "metadata": {},
   "outputs": [],
   "source": []
  }
 ],
 "metadata": {
  "kernelspec": {
   "display_name": "Python 3 (ipykernel)",
   "language": "python",
   "name": "python3"
  },
  "language_info": {
   "codemirror_mode": {
    "name": "ipython",
    "version": 3
   },
   "file_extension": ".py",
   "mimetype": "text/x-python",
   "name": "python",
   "nbconvert_exporter": "python",
   "pygments_lexer": "ipython3",
   "version": "3.8.10"
  }
 },
 "nbformat": 4,
 "nbformat_minor": 5
}
