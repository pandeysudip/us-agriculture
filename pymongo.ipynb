{
 "cells": [
  {
   "cell_type": "code",
   "execution_count": 76,
   "id": "daf43fd3",
   "metadata": {},
   "outputs": [],
   "source": [
    "import pymongo\n",
    "from pymongo import MongoClient\n",
    "import os\n",
    "import pandas as pd"
   ]
  },
  {
   "cell_type": "code",
   "execution_count": 77,
   "id": "5e1933ec",
   "metadata": {},
   "outputs": [],
   "source": [
    "cluster=MongoClient('mongodb://localhost:27017')\n",
    "#create database\n",
    "db=cluster['us-agriculture']  \n",
    "#creating collections\n",
    "field_crops=db['field_crops'] \n",
    "vegetables=db['vegetables'] \n",
    "fruits=db['fruits'] \n",
    "weather=db['weather'] \n",
    "news=db['news'] \n"
   ]
  },
  {
   "cell_type": "code",
   "execution_count": 78,
   "id": "9ae1c16c",
   "metadata": {},
   "outputs": [
    {
     "data": {
      "text/plain": [
       "['ClassDB',\n",
       " 'MissionMars',\n",
       " 'admin',\n",
       " 'config',\n",
       " 'etl-project',\n",
       " 'etl_project',\n",
       " 'fruits_db',\n",
       " 'us-agriculture']"
      ]
     },
     "execution_count": 78,
     "metadata": {},
     "output_type": "execute_result"
    }
   ],
   "source": [
    "#to find all the databases\n",
    "cluster.list_database_names()\n",
    "#(unless you enter data for collection, database will not showup here)"
   ]
  },
  {
   "cell_type": "code",
   "execution_count": 83,
   "id": "e161ecb6",
   "metadata": {},
   "outputs": [
    {
     "data": {
      "text/plain": [
       "['weather', 'fruits', 'field_crops', 'vegetables']"
      ]
     },
     "execution_count": 83,
     "metadata": {},
     "output_type": "execute_result"
    }
   ],
   "source": [
    "#to find all collections for particular database\n",
    "#(unless you enter data for collection, collections will not showup here)\n",
    "db.list_collection_names()"
   ]
  },
  {
   "cell_type": "code",
   "execution_count": 80,
   "id": "bd459075",
   "metadata": {},
   "outputs": [],
   "source": [
    "# path of cleaned csv files\n",
    "path_field_crops=os.path.join('cleaned_data', 'field_crops_data.csv')\n",
    "path_vegetables=os.path.join('cleaned_data', 'vegetables_data.csv')\n",
    "path_fruits=os.path.join('cleaned_data', 'fruits_data.csv')\n",
    "path_weather=os.path.join('cleaned_data', 'weather_data.csv')\n",
    "path_news=os.path.join('cleaned_data', 'news_data.csv')\n"
   ]
  },
  {
   "cell_type": "code",
   "execution_count": 81,
   "id": "ce8f11ff",
   "metadata": {},
   "outputs": [],
   "source": [
    "#creating a function to insert csv files in MongoDB collections\n",
    "def csv_to_json(filename, header=0):\n",
    "    data = pd.read_csv(filename, header=header)\n",
    "    return data.to_dict('records')#records is list like\n",
    "\n",
    "#print(csv_to_json(path_election))\n"
   ]
  },
  {
   "cell_type": "code",
   "execution_count": 82,
   "id": "e89b1dca",
   "metadata": {},
   "outputs": [
    {
     "data": {
      "text/plain": [
       "<pymongo.results.InsertManyResult at 0x7f8c0f23bec0>"
      ]
     },
     "execution_count": 82,
     "metadata": {},
     "output_type": "execute_result"
    }
   ],
   "source": [
    "#Insert a record in collections:\n",
    "field_crops.insert_many(csv_to_json(path_field_crops))\n",
    "vegetables.insert_many(csv_to_json(path_vegetables))\n",
    "fruits.insert_many(csv_to_json(path_fruits))\n",
    "weather.insert_many(csv_to_json(path_weather))\n",
    "#news.insert_many(csv_to_json(path_news))"
   ]
  },
  {
   "cell_type": "code",
   "execution_count": 74,
   "id": "74beb14b",
   "metadata": {},
   "outputs": [],
   "source": [
    "#to drop collection name\n",
    "#weather.drop()"
   ]
  },
  {
   "cell_type": "markdown",
   "id": "6eca8e8a",
   "metadata": {},
   "source": [
    "## fruits-collection"
   ]
  },
  {
   "cell_type": "code",
   "execution_count": 69,
   "id": "6778c0a9",
   "metadata": {},
   "outputs": [
    {
     "data": {
      "text/plain": [
       "{'_id': ObjectId('619a002a63bb10bc8a83ae65'),\n",
       " 'County': 'ABBEVILLE',\n",
       " 'State': 'SOUTH CAROLINA',\n",
       " 'Commodity': 'CORN',\n",
       " 'Value': 579.0}"
      ]
     },
     "execution_count": 69,
     "metadata": {},
     "output_type": "execute_result"
    }
   ],
   "source": [
    "#To select data from a collections in MongoDB, \n",
    "fruits.find_one()"
   ]
  },
  {
   "cell_type": "code",
   "execution_count": 29,
   "id": "447f7325",
   "metadata": {},
   "outputs": [
    {
     "name": "stdout",
     "output_type": "stream",
     "text": [
      "{'_id': ObjectId('619a002a63bb10bc8a83ae65'), 'County': 'ABBEVILLE', 'State': 'SOUTH CAROLINA', 'Commodity': 'CORN', 'Value': 579.0}\n",
      "{'_id': ObjectId('619a002a63bb10bc8a83ae66'), 'County': 'ABBEVILLE', 'State': 'SOUTH CAROLINA', 'Commodity': 'COTTON', 'Value': 4.0}\n",
      "{'_id': ObjectId('619a002a63bb10bc8a83ae67'), 'County': 'ABBEVILLE', 'State': 'SOUTH CAROLINA', 'Commodity': 'FIELD CROPS, OTHER', 'Value': 825137.0}\n",
      "{'_id': ObjectId('619a002a63bb10bc8a83ae68'), 'County': 'ABBEVILLE', 'State': 'SOUTH CAROLINA', 'Commodity': 'GRAIN', 'Value': 10021.0}\n",
      "{'_id': ObjectId('619a002a63bb10bc8a83ae69'), 'County': 'ABBEVILLE', 'State': 'SOUTH CAROLINA', 'Commodity': 'HAY', 'Value': 31587.0}\n",
      "{'_id': ObjectId('619a002a63bb10bc8a83ae6a'), 'County': 'ABBEVILLE', 'State': 'SOUTH CAROLINA', 'Commodity': 'HAY & HAYLAGE', 'Value': 33232.0}\n",
      "{'_id': ObjectId('619a002a63bb10bc8a83ae6b'), 'County': 'ABBEVILLE', 'State': 'SOUTH CAROLINA', 'Commodity': 'HAYLAGE', 'Value': 6254.0}\n",
      "{'_id': ObjectId('619a002a63bb10bc8a83ae6c'), 'County': 'ABBEVILLE', 'State': 'SOUTH CAROLINA', 'Commodity': 'OATS', 'Value': 4.0}\n",
      "{'_id': ObjectId('619a002a63bb10bc8a83ae6d'), 'County': 'ABBEVILLE', 'State': 'SOUTH CAROLINA', 'Commodity': 'PEAS', 'Value': 2.0}\n",
      "{'_id': ObjectId('619a002a63bb10bc8a83ae6e'), 'County': 'ABBEVILLE', 'State': 'SOUTH CAROLINA', 'Commodity': 'RYE', 'Value': 1.0}\n"
     ]
    }
   ],
   "source": [
    "# to select (limiting to 10 only)\n",
    "for x in fruits .find({'State': 'SOUTH CAROLINA'}).limit(10):\n",
    "    print(x)"
   ]
  },
  {
   "cell_type": "code",
   "execution_count": 31,
   "id": "cef9594e",
   "metadata": {},
   "outputs": [
    {
     "name": "stdout",
     "output_type": "stream",
     "text": [
      "{'County': 'ABBEVILLE', 'Value': 579.0}\n",
      "{'County': 'ABBEVILLE', 'Value': 4.0}\n",
      "{'County': 'ABBEVILLE', 'Value': 825137.0}\n",
      "{'County': 'ABBEVILLE', 'Value': 10021.0}\n",
      "{'County': 'ABBEVILLE', 'Value': 31587.0}\n",
      "{'County': 'ABBEVILLE', 'Value': 33232.0}\n",
      "{'County': 'ABBEVILLE', 'Value': 6254.0}\n",
      "{'County': 'ABBEVILLE', 'Value': 4.0}\n",
      "{'County': 'ABBEVILLE', 'Value': 2.0}\n",
      "{'County': 'ABBEVILLE', 'Value': 1.0}\n"
     ]
    }
   ],
   "source": [
    "#selecting specific columns of collection election(1- will show columns)\n",
    "for x in fruits.find({}, {\"_id\":0,\"County\":1,\"Value\":1}).limit(10):\n",
    "    print(x)"
   ]
  },
  {
   "cell_type": "markdown",
   "id": "e9123c22",
   "metadata": {},
   "source": [
    "## weather-collection"
   ]
  },
  {
   "cell_type": "code",
   "execution_count": 84,
   "id": "7d10dabf",
   "metadata": {},
   "outputs": [
    {
     "data": {
      "text/plain": [
       "{'_id': ObjectId('619a828663bb10bc8a8e0809'),\n",
       " 'County': 'Aasco Municipio',\n",
       " 'State': 'PR',\n",
       " 'Zipcode': 610,\n",
       " 'Name': 'Anasco',\n",
       " 'Max_temp': 26.77,\n",
       " 'Min_temp': 23.55,\n",
       " 'Description': 'scattered clouds',\n",
       " 'Feels_like': 26.02,\n",
       " 'Sunrise': 1637404678,\n",
       " 'Sunset': 1637445053,\n",
       " 'Lon': -67.14,\n",
       " 'Lat': 18.28}"
      ]
     },
     "execution_count": 84,
     "metadata": {},
     "output_type": "execute_result"
    }
   ],
   "source": [
    "weather.find_one()"
   ]
  },
  {
   "cell_type": "code",
   "execution_count": 87,
   "id": "354b266a",
   "metadata": {},
   "outputs": [
    {
     "name": "stdout",
     "output_type": "stream",
     "text": [
      "{'County': 'Aasco Municipio', 'Max_temp': 26.77}\n",
      "{'County': 'Abbeville ', 'Max_temp': 7.47}\n",
      "{'County': 'Acadia Parish', 'Max_temp': 18.32}\n",
      "{'County': 'Accomack ', 'Max_temp': 7.93}\n",
      "{'County': 'Ada ', 'Max_temp': 6.29}\n",
      "{'County': 'Adair ', 'Max_temp': 8.41}\n",
      "{'County': 'Adair ', 'Max_temp': 10.13}\n",
      "{'County': 'Adair ', 'Max_temp': 10.65}\n",
      "{'County': 'Adair ', 'Max_temp': 14.85}\n",
      "{'County': 'Adams ', 'Max_temp': 7.42}\n",
      "{'County': 'Adams ', 'Max_temp': 9.08}\n",
      "{'County': 'Adams ', 'Max_temp': 3.62}\n",
      "{'County': 'Adams ', 'Max_temp': 12.23}\n",
      "{'County': 'Adams ', 'Max_temp': 4.96}\n",
      "{'County': 'Adams ', 'Max_temp': 13.3}\n",
      "{'County': 'Adams ', 'Max_temp': -0.69}\n",
      "{'County': 'Adams ', 'Max_temp': 9.88}\n",
      "{'County': 'Adams ', 'Max_temp': 9.68}\n",
      "{'County': 'Adams ', 'Max_temp': 4.58}\n",
      "{'County': 'Adams ', 'Max_temp': 4.1}\n"
     ]
    }
   ],
   "source": [
    "#selecting specific columns of collection election(1- will show columns)\n",
    "for x in weather.find({}, {\"_id\":0,\"County\":1,\"Max_temp\":1}).limit(20):\n",
    "    print(x)"
   ]
  },
  {
   "cell_type": "code",
   "execution_count": null,
   "id": "3ca7da52",
   "metadata": {},
   "outputs": [],
   "source": []
  }
 ],
 "metadata": {
  "kernelspec": {
   "display_name": "Python 3 (ipykernel)",
   "language": "python",
   "name": "python3"
  },
  "language_info": {
   "codemirror_mode": {
    "name": "ipython",
    "version": 3
   },
   "file_extension": ".py",
   "mimetype": "text/x-python",
   "name": "python",
   "nbconvert_exporter": "python",
   "pygments_lexer": "ipython3",
   "version": "3.8.10"
  }
 },
 "nbformat": 4,
 "nbformat_minor": 5
}
