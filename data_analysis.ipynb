{
 "cells": [
  {
   "cell_type": "code",
   "execution_count": 1,
   "id": "ffa9c023",
   "metadata": {},
   "outputs": [],
   "source": [
    "# Dependencies and Setup\n",
    "import matplotlib.pyplot as plt\n",
    "import pandas as pd\n",
    "import numpy as np\n",
    "import requests\n",
    "import time\n",
    "from scipy.stats import linregress\n",
    "import os\n",
    "import seaborn as sns\n",
    "from matplotlib import rcParams"
   ]
  },
  {
   "cell_type": "code",
   "execution_count": 2,
   "id": "1c650156",
   "metadata": {},
   "outputs": [],
   "source": [
    "#reading all field crops csv for different states data to pandas dataframe\n",
    "field_crops_data=[]\n",
    "for i in range(1,8):\n",
    "    df=pd.read_csv(f'data/field_crops{i}.csv')\n",
    "    field_crops_data.append(df)\n",
    "#concating all states datas to one dataframe\n",
    "field_crops=pd.concat([data for data in field_crops_data], axis=0)"
   ]
  },
  {
   "cell_type": "code",
   "execution_count": 6,
   "id": "276caec3",
   "metadata": {},
   "outputs": [
    {
     "data": {
      "text/plain": [
       "Index(['Program', 'Year', 'Period', 'Week Ending', 'Geo Level', 'State',\n",
       "       'State ANSI', 'Ag District', 'Ag District Code', 'County',\n",
       "       'County ANSI', 'Zip Code', 'Region', 'watershed_code', 'Watershed',\n",
       "       'Commodity', 'Data Item', 'Domain', 'Domain Category', 'Value',\n",
       "       'CV (%)'],\n",
       "      dtype='object')"
      ]
     },
     "execution_count": 6,
     "metadata": {},
     "output_type": "execute_result"
    }
   ],
   "source": [
    "#all columns of dataframe\n",
    "field_crops.columns"
   ]
  },
  {
   "cell_type": "code",
   "execution_count": 8,
   "id": "6fd40658",
   "metadata": {},
   "outputs": [],
   "source": [
    "#selecting only important columns\n",
    "field_crops=field_crops[['County','State','Commodity', 'Data Item', 'Domain', 'Domain Category', 'Value']]"
   ]
  },
  {
   "cell_type": "code",
   "execution_count": 3,
   "id": "f24b7b4d",
   "metadata": {},
   "outputs": [],
   "source": [
    "#reading all vegetables csv for different states data to pandas dataframe\n",
    "vegetables_data=[]\n",
    "for i in range(8):\n",
    "    df=pd.read_csv(f'data/vegetables{i}.csv')\n",
    "    vegetables_data.append(df)\n",
    "#concating all states datas to one dataframe\n",
    "vegetables=pd.concat([data for data in vegetables_data], axis=0)"
   ]
  },
  {
   "cell_type": "code",
   "execution_count": 9,
   "id": "1d341e06",
   "metadata": {},
   "outputs": [],
   "source": [
    "#selecting only important columns\n",
    "vegetables=vegetables[['County','State','Commodity', 'Data Item', 'Domain', 'Domain Category', 'Value']]"
   ]
  },
  {
   "cell_type": "code",
   "execution_count": 4,
   "id": "2f7d329e",
   "metadata": {},
   "outputs": [],
   "source": [
    "#reading all fruits csv for different states data to pandas dataframe\n",
    "fruits_data=[]\n",
    "for i in range(1,8):\n",
    "    df=pd.read_csv(f'data/fruits{i}.csv')\n",
    "    fruits_data.append(df)\n",
    "#concating all states datas to one dataframe\n",
    "fruits=pd.concat([data for data in fruits_data], axis=0)"
   ]
  },
  {
   "cell_type": "code",
   "execution_count": 10,
   "id": "c540a353",
   "metadata": {},
   "outputs": [],
   "source": [
    "#selecting only important columns\n",
    "fruits=fruits[['County','State','Commodity', 'Data Item', 'Domain', 'Domain Category', 'Value']]"
   ]
  },
  {
   "cell_type": "code",
   "execution_count": 12,
   "id": "d8780899",
   "metadata": {},
   "outputs": [
    {
     "data": {
      "text/plain": [
       " (D)      39738\n",
       "1         24690\n",
       "2         15442\n",
       "3         10034\n",
       "4          7113\n",
       "          ...  \n",
       "3,125         1\n",
       "25,060        1\n",
       "26,022        1\n",
       "29,082        1\n",
       "45,470        1\n",
       "Name: Value, Length: 43575, dtype: int64"
      ]
     },
     "execution_count": 12,
     "metadata": {},
     "output_type": "execute_result"
    }
   ],
   "source": [
    "field_crops['Value'].value_counts()"
   ]
  },
  {
   "cell_type": "code",
   "execution_count": null,
   "id": "eb607723",
   "metadata": {},
   "outputs": [],
   "source": []
  },
  {
   "cell_type": "code",
   "execution_count": null,
   "id": "38a189ed",
   "metadata": {},
   "outputs": [],
   "source": []
  },
  {
   "cell_type": "code",
   "execution_count": null,
   "id": "dbefe2be",
   "metadata": {},
   "outputs": [],
   "source": []
  }
 ],
 "metadata": {
  "kernelspec": {
   "display_name": "Python 3 (ipykernel)",
   "language": "python",
   "name": "python3"
  },
  "language_info": {
   "codemirror_mode": {
    "name": "ipython",
    "version": 3
   },
   "file_extension": ".py",
   "mimetype": "text/x-python",
   "name": "python",
   "nbconvert_exporter": "python",
   "pygments_lexer": "ipython3",
   "version": "3.8.10"
  }
 },
 "nbformat": 4,
 "nbformat_minor": 5
}
