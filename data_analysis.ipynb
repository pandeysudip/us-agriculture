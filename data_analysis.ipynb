{
 "cells": [
  {
   "cell_type": "code",
   "execution_count": 1,
   "id": "56a047d7",
   "metadata": {},
   "outputs": [],
   "source": [
    "# Dependencies and Setup\n",
    "import matplotlib.pyplot as plt\n",
    "import pandas as pd\n",
    "import numpy as np\n",
    "import requests\n",
    "import time\n",
    "from scipy.stats import linregress\n",
    "import os\n",
    "import seaborn as sns\n",
    "from matplotlib import rcParams"
   ]
  },
  {
   "cell_type": "code",
   "execution_count": null,
   "id": "4bac1f2c",
   "metadata": {},
   "outputs": [],
   "source": [
    "#reading all csv for different states data to pandas dataframe\n",
    "all_data=[]\n",
    "for i in range(1,17):\n",
    "    df=pd.read_csv(f'data/{i}.csv')\n",
    "    all_data.append(df)"
   ]
  },
  {
   "cell_type": "code",
   "execution_count": null,
   "id": "01e28f24",
   "metadata": {},
   "outputs": [],
   "source": [
    "#concating all states datas to one dataframe\n",
    "all_df=pd.concat([data for data in all_data], axis=0)"
   ]
  },
  {
   "cell_type": "code",
   "execution_count": null,
   "id": "bbf94427",
   "metadata": {},
   "outputs": [],
   "source": [
    "all_df.shape"
   ]
  },
  {
   "cell_type": "code",
   "execution_count": null,
   "id": "684847fd",
   "metadata": {},
   "outputs": [],
   "source": [
    "all_df.head()"
   ]
  },
  {
   "cell_type": "code",
   "execution_count": null,
   "id": "12e6d19d",
   "metadata": {},
   "outputs": [],
   "source": [
    "#making a copy of combined dataframe\n",
    "df_selected=all_df.copy()"
   ]
  },
  {
   "cell_type": "code",
   "execution_count": null,
   "id": "6c01db16",
   "metadata": {},
   "outputs": [],
   "source": [
    "#columns \n",
    "df_selected.columns"
   ]
  },
  {
   "cell_type": "code",
   "execution_count": null,
   "id": "c8539e2f",
   "metadata": {},
   "outputs": [],
   "source": [
    "#only selecting certain columns\n",
    "df_selected=df_selected[[ 'Zip Code','Commodity', 'Data Item', 'Domain', 'Domain Category', 'Value']]"
   ]
  },
  {
   "cell_type": "code",
   "execution_count": null,
   "id": "6ab8ba7f",
   "metadata": {},
   "outputs": [],
   "source": [
    "df_selected"
   ]
  },
  {
   "cell_type": "code",
   "execution_count": null,
   "id": "aec8e3c2",
   "metadata": {},
   "outputs": [],
   "source": [
    "df_selected['Zip Code'].nunique()"
   ]
  },
  {
   "cell_type": "code",
   "execution_count": null,
   "id": "2c4e1ea4",
   "metadata": {},
   "outputs": [],
   "source": [
    "df_selected['Zip Code'].value_counts()"
   ]
  },
  {
   "cell_type": "code",
   "execution_count": null,
   "id": "c9764da1",
   "metadata": {},
   "outputs": [],
   "source": [
    "df_selected.set_index('Zip Code', inplace=True)"
   ]
  },
  {
   "cell_type": "code",
   "execution_count": null,
   "id": "b3a0a021",
   "metadata": {},
   "outputs": [],
   "source": [
    "df_selected.drop(df_selected.index[df_selected.index==99999], inplace=True)\n",
    "df_selected.reset_index(inplace=True)"
   ]
  },
  {
   "cell_type": "code",
   "execution_count": null,
   "id": "c9fd131c",
   "metadata": {},
   "outputs": [],
   "source": [
    "df_selected['Domain'].value_counts()"
   ]
  },
  {
   "cell_type": "code",
   "execution_count": null,
   "id": "3facb601",
   "metadata": {},
   "outputs": [],
   "source": [
    "df_selected['Domain Category'].value_counts()"
   ]
  },
  {
   "cell_type": "code",
   "execution_count": null,
   "id": "f2859cbb",
   "metadata": {},
   "outputs": [],
   "source": [
    "df_selected['Data Item'].value_counts()"
   ]
  },
  {
   "cell_type": "code",
   "execution_count": null,
   "id": "f978078f",
   "metadata": {},
   "outputs": [],
   "source": []
  },
  {
   "cell_type": "code",
   "execution_count": 2,
   "id": "9f996b5e",
   "metadata": {},
   "outputs": [],
   "source": [
    "ca_data=pd.read_csv(\"data/ca.csv\")"
   ]
  },
  {
   "cell_type": "code",
   "execution_count": 3,
   "id": "8a5201ec",
   "metadata": {},
   "outputs": [
    {
     "data": {
      "text/html": [
       "<div>\n",
       "<style scoped>\n",
       "    .dataframe tbody tr th:only-of-type {\n",
       "        vertical-align: middle;\n",
       "    }\n",
       "\n",
       "    .dataframe tbody tr th {\n",
       "        vertical-align: top;\n",
       "    }\n",
       "\n",
       "    .dataframe thead th {\n",
       "        text-align: right;\n",
       "    }\n",
       "</style>\n",
       "<table border=\"1\" class=\"dataframe\">\n",
       "  <thead>\n",
       "    <tr style=\"text-align: right;\">\n",
       "      <th></th>\n",
       "      <th>Program</th>\n",
       "      <th>Year</th>\n",
       "      <th>Period</th>\n",
       "      <th>Week Ending</th>\n",
       "      <th>Geo Level</th>\n",
       "      <th>State</th>\n",
       "      <th>State ANSI</th>\n",
       "      <th>Ag District</th>\n",
       "      <th>Ag District Code</th>\n",
       "      <th>County</th>\n",
       "      <th>...</th>\n",
       "      <th>Zip Code</th>\n",
       "      <th>Region</th>\n",
       "      <th>watershed_code</th>\n",
       "      <th>Watershed</th>\n",
       "      <th>Commodity</th>\n",
       "      <th>Data Item</th>\n",
       "      <th>Domain</th>\n",
       "      <th>Domain Category</th>\n",
       "      <th>Value</th>\n",
       "      <th>CV (%)</th>\n",
       "    </tr>\n",
       "  </thead>\n",
       "  <tbody>\n",
       "    <tr>\n",
       "      <th>0</th>\n",
       "      <td>CENSUS</td>\n",
       "      <td>2017</td>\n",
       "      <td>YEAR</td>\n",
       "      <td>NaN</td>\n",
       "      <td>COUNTY</td>\n",
       "      <td>CALIFORNIA</td>\n",
       "      <td>6</td>\n",
       "      <td>CENTRAL COAST</td>\n",
       "      <td>40</td>\n",
       "      <td>ALAMEDA</td>\n",
       "      <td>...</td>\n",
       "      <td>NaN</td>\n",
       "      <td>NaN</td>\n",
       "      <td>0</td>\n",
       "      <td>NaN</td>\n",
       "      <td>ALMONDS</td>\n",
       "      <td>ALMONDS - ACRES BEARING</td>\n",
       "      <td>TOTAL</td>\n",
       "      <td>NOT SPECIFIED</td>\n",
       "      <td>(D)</td>\n",
       "      <td>(D)</td>\n",
       "    </tr>\n",
       "    <tr>\n",
       "      <th>1</th>\n",
       "      <td>CENSUS</td>\n",
       "      <td>2017</td>\n",
       "      <td>YEAR</td>\n",
       "      <td>NaN</td>\n",
       "      <td>COUNTY</td>\n",
       "      <td>CALIFORNIA</td>\n",
       "      <td>6</td>\n",
       "      <td>CENTRAL COAST</td>\n",
       "      <td>40</td>\n",
       "      <td>ALAMEDA</td>\n",
       "      <td>...</td>\n",
       "      <td>NaN</td>\n",
       "      <td>NaN</td>\n",
       "      <td>0</td>\n",
       "      <td>NaN</td>\n",
       "      <td>ALMONDS</td>\n",
       "      <td>ALMONDS - ACRES BEARING &amp; NON-BEARING</td>\n",
       "      <td>TOTAL</td>\n",
       "      <td>NOT SPECIFIED</td>\n",
       "      <td>(D)</td>\n",
       "      <td>(D)</td>\n",
       "    </tr>\n",
       "    <tr>\n",
       "      <th>2</th>\n",
       "      <td>CENSUS</td>\n",
       "      <td>2017</td>\n",
       "      <td>YEAR</td>\n",
       "      <td>NaN</td>\n",
       "      <td>COUNTY</td>\n",
       "      <td>CALIFORNIA</td>\n",
       "      <td>6</td>\n",
       "      <td>CENTRAL COAST</td>\n",
       "      <td>40</td>\n",
       "      <td>ALAMEDA</td>\n",
       "      <td>...</td>\n",
       "      <td>NaN</td>\n",
       "      <td>NaN</td>\n",
       "      <td>0</td>\n",
       "      <td>NaN</td>\n",
       "      <td>ALMONDS</td>\n",
       "      <td>ALMONDS - OPERATIONS WITH AREA BEARING</td>\n",
       "      <td>TOTAL</td>\n",
       "      <td>NOT SPECIFIED</td>\n",
       "      <td>2</td>\n",
       "      <td>11.7</td>\n",
       "    </tr>\n",
       "    <tr>\n",
       "      <th>3</th>\n",
       "      <td>CENSUS</td>\n",
       "      <td>2017</td>\n",
       "      <td>YEAR</td>\n",
       "      <td>NaN</td>\n",
       "      <td>COUNTY</td>\n",
       "      <td>CALIFORNIA</td>\n",
       "      <td>6</td>\n",
       "      <td>CENTRAL COAST</td>\n",
       "      <td>40</td>\n",
       "      <td>ALAMEDA</td>\n",
       "      <td>...</td>\n",
       "      <td>NaN</td>\n",
       "      <td>NaN</td>\n",
       "      <td>0</td>\n",
       "      <td>NaN</td>\n",
       "      <td>ALMONDS</td>\n",
       "      <td>ALMONDS - OPERATIONS WITH AREA BEARING &amp; NON-B...</td>\n",
       "      <td>TOTAL</td>\n",
       "      <td>NOT SPECIFIED</td>\n",
       "      <td>2</td>\n",
       "      <td>11.0</td>\n",
       "    </tr>\n",
       "    <tr>\n",
       "      <th>4</th>\n",
       "      <td>CENSUS</td>\n",
       "      <td>2017</td>\n",
       "      <td>YEAR</td>\n",
       "      <td>NaN</td>\n",
       "      <td>COUNTY</td>\n",
       "      <td>CALIFORNIA</td>\n",
       "      <td>6</td>\n",
       "      <td>CENTRAL COAST</td>\n",
       "      <td>40</td>\n",
       "      <td>ALAMEDA</td>\n",
       "      <td>...</td>\n",
       "      <td>NaN</td>\n",
       "      <td>NaN</td>\n",
       "      <td>0</td>\n",
       "      <td>NaN</td>\n",
       "      <td>APPLES</td>\n",
       "      <td>APPLES - ACRES BEARING</td>\n",
       "      <td>TOTAL</td>\n",
       "      <td>NOT SPECIFIED</td>\n",
       "      <td>(D)</td>\n",
       "      <td>(D)</td>\n",
       "    </tr>\n",
       "  </tbody>\n",
       "</table>\n",
       "<p>5 rows × 21 columns</p>\n",
       "</div>"
      ],
      "text/plain": [
       "  Program  Year Period  Week Ending Geo Level       State  State ANSI  \\\n",
       "0  CENSUS  2017   YEAR          NaN    COUNTY  CALIFORNIA           6   \n",
       "1  CENSUS  2017   YEAR          NaN    COUNTY  CALIFORNIA           6   \n",
       "2  CENSUS  2017   YEAR          NaN    COUNTY  CALIFORNIA           6   \n",
       "3  CENSUS  2017   YEAR          NaN    COUNTY  CALIFORNIA           6   \n",
       "4  CENSUS  2017   YEAR          NaN    COUNTY  CALIFORNIA           6   \n",
       "\n",
       "     Ag District  Ag District Code   County  ...  Zip Code  Region  \\\n",
       "0  CENTRAL COAST                40  ALAMEDA  ...       NaN     NaN   \n",
       "1  CENTRAL COAST                40  ALAMEDA  ...       NaN     NaN   \n",
       "2  CENTRAL COAST                40  ALAMEDA  ...       NaN     NaN   \n",
       "3  CENTRAL COAST                40  ALAMEDA  ...       NaN     NaN   \n",
       "4  CENTRAL COAST                40  ALAMEDA  ...       NaN     NaN   \n",
       "\n",
       "   watershed_code  Watershed  Commodity  \\\n",
       "0               0        NaN    ALMONDS   \n",
       "1               0        NaN    ALMONDS   \n",
       "2               0        NaN    ALMONDS   \n",
       "3               0        NaN    ALMONDS   \n",
       "4               0        NaN     APPLES   \n",
       "\n",
       "                                           Data Item Domain Domain Category  \\\n",
       "0                            ALMONDS - ACRES BEARING  TOTAL   NOT SPECIFIED   \n",
       "1              ALMONDS - ACRES BEARING & NON-BEARING  TOTAL   NOT SPECIFIED   \n",
       "2             ALMONDS - OPERATIONS WITH AREA BEARING  TOTAL   NOT SPECIFIED   \n",
       "3  ALMONDS - OPERATIONS WITH AREA BEARING & NON-B...  TOTAL   NOT SPECIFIED   \n",
       "4                             APPLES - ACRES BEARING  TOTAL   NOT SPECIFIED   \n",
       "\n",
       "  Value CV (%)  \n",
       "0   (D)    (D)  \n",
       "1   (D)    (D)  \n",
       "2     2   11.7  \n",
       "3     2   11.0  \n",
       "4   (D)    (D)  \n",
       "\n",
       "[5 rows x 21 columns]"
      ]
     },
     "execution_count": 3,
     "metadata": {},
     "output_type": "execute_result"
    }
   ],
   "source": [
    "ca_data.head()"
   ]
  },
  {
   "cell_type": "code",
   "execution_count": 4,
   "id": "3f398a49",
   "metadata": {},
   "outputs": [
    {
     "data": {
      "text/plain": [
       "Index(['Program', 'Year', 'Period', 'Week Ending', 'Geo Level', 'State',\n",
       "       'State ANSI', 'Ag District', 'Ag District Code', 'County',\n",
       "       'County ANSI', 'Zip Code', 'Region', 'watershed_code', 'Watershed',\n",
       "       'Commodity', 'Data Item', 'Domain', 'Domain Category', 'Value',\n",
       "       'CV (%)'],\n",
       "      dtype='object')"
      ]
     },
     "execution_count": 4,
     "metadata": {},
     "output_type": "execute_result"
    }
   ],
   "source": [
    "ca_data.columns"
   ]
  },
  {
   "cell_type": "code",
   "execution_count": 5,
   "id": "b7bf093f",
   "metadata": {},
   "outputs": [
    {
     "data": {
      "text/plain": [
       "VEGETABLE TOTALS    1310\n",
       "HAY                  821\n",
       "PEACHES              792\n",
       "PEARS                778\n",
       "WHEAT                758\n",
       "                    ... \n",
       "GINSENG                4\n",
       "MUSHROOM SPAWN         4\n",
       "DILL                   3\n",
       "EMMER & SPELT          3\n",
       "MUSTARD                3\n",
       "Name: Commodity, Length: 155, dtype: int64"
      ]
     },
     "execution_count": 5,
     "metadata": {},
     "output_type": "execute_result"
    }
   ],
   "source": [
    "ca_data['Commodity'].value_counts()"
   ]
  },
  {
   "cell_type": "code",
   "execution_count": 6,
   "id": "d96d726d",
   "metadata": {},
   "outputs": [
    {
     "data": {
      "text/plain": [
       "ORCHARDS - OPERATIONS WITH AREA BEARING & NON-BEARING             411\n",
       "VEGETABLE TOTALS, IN THE OPEN - OPERATIONS WITH AREA HARVESTED    348\n",
       "HAY & HAYLAGE - OPERATIONS WITH AREA HARVESTED                    333\n",
       "WHEAT - OPERATIONS WITH AREA HARVESTED                            180\n",
       "CORN, GRAIN - OPERATIONS WITH AREA HARVESTED                      123\n",
       "                                                                 ... \n",
       "GRASSES, BAHIA GRASS, SEED - OPERATIONS WITH AREA HARVESTED         1\n",
       "GRASSES, WHEATGRASS, SEED - PRODUCTION, MEASURED IN LB              1\n",
       "GRASSES, WHEATGRASS, SEED - OPERATIONS WITH AREA HARVESTED          1\n",
       "GRASSES, WHEATGRASS, SEED - ACRES HARVESTED                         1\n",
       "TREE NUTS, OTHER - OPERATIONS WITH AREA NON-BEARING                 1\n",
       "Name: Data Item, Length: 1189, dtype: int64"
      ]
     },
     "execution_count": 6,
     "metadata": {},
     "output_type": "execute_result"
    }
   ],
   "source": [
    "ca_data['Data Item'].value_counts()"
   ]
  },
  {
   "cell_type": "code",
   "execution_count": 13,
   "id": "9e21c952",
   "metadata": {},
   "outputs": [],
   "source": [
    "ca_data[\"Value\"]=ca_data[\"Value\"].replace({'D':0})"
   ]
  },
  {
   "cell_type": "code",
   "execution_count": 14,
   "id": "ffc4408d",
   "metadata": {},
   "outputs": [
    {
     "data": {
      "text/plain": [
       "0         (D)\n",
       "1         (D)\n",
       "2           2\n",
       "3           2\n",
       "4         (D)\n",
       "         ... \n",
       "31966     (D)\n",
       "31967       1\n",
       "31968     (D)\n",
       "31969     (D)\n",
       "31970       1\n",
       "Name: Value, Length: 31971, dtype: object"
      ]
     },
     "execution_count": 14,
     "metadata": {},
     "output_type": "execute_result"
    }
   ],
   "source": [
    "ca_data[\"Value\"]"
   ]
  },
  {
   "cell_type": "code",
   "execution_count": null,
   "id": "5c6d7f4c",
   "metadata": {},
   "outputs": [],
   "source": [
    "ca_data.groupby(\"County\")[\"Value\"].mean()"
   ]
  },
  {
   "cell_type": "code",
   "execution_count": null,
   "id": "1ad9ee49",
   "metadata": {},
   "outputs": [],
   "source": []
  }
 ],
 "metadata": {
  "kernelspec": {
   "display_name": "Python 3 (ipykernel)",
   "language": "python",
   "name": "python3"
  },
  "language_info": {
   "codemirror_mode": {
    "name": "ipython",
    "version": 3
   },
   "file_extension": ".py",
   "mimetype": "text/x-python",
   "name": "python",
   "nbconvert_exporter": "python",
   "pygments_lexer": "ipython3",
   "version": "3.8.10"
  }
 },
 "nbformat": 4,
 "nbformat_minor": 5
}
